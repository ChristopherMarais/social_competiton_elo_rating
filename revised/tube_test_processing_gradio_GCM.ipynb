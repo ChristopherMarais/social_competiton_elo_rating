{
 "cells": [
  {
   "cell_type": "markdown",
   "id": "9eea3ad7-91d7-4062-acc0-724b87bc22f1",
   "metadata": {},
   "source": [
    "### Imports"
   ]
  },
  {
   "cell_type": "code",
   "execution_count": 1,
   "id": "cdbf1ce4-a5c4-4941-8a5b-116686a35b46",
   "metadata": {
    "execution": {
     "iopub.execute_input": "2023-05-03T15:34:27.737539Z",
     "iopub.status.busy": "2023-05-03T15:34:27.737539Z",
     "iopub.status.idle": "2023-05-03T15:34:32.544386Z",
     "shell.execute_reply": "2023-05-03T15:34:32.544386Z",
     "shell.execute_reply.started": "2023-05-03T15:34:27.737539Z"
    },
    "tags": []
   },
   "outputs": [],
   "source": [
    "import gradio as gr\n",
    "import pandas as pd\n",
    "import numpy as np\n",
    "import os"
   ]
  },
  {
   "cell_type": "code",
   "execution_count": 17,
   "id": "0ee51068-a13c-4a5d-b3f9-22db41ac42a6",
   "metadata": {
    "execution": {
     "iopub.execute_input": "2023-05-03T16:17:25.321035Z",
     "iopub.status.busy": "2023-05-03T16:17:25.321035Z",
     "iopub.status.idle": "2023-05-03T16:17:25.400417Z",
     "shell.execute_reply": "2023-05-03T16:17:25.399406Z",
     "shell.execute_reply.started": "2023-05-03T16:17:25.321035Z"
    },
    "tags": []
   },
   "outputs": [
    {
     "name": "stderr",
     "output_type": "stream",
     "text": [
      "C:\\Users\\gcmar\\.conda\\envs\\elo_311\\Lib\\site-packages\\gradio\\deprecation.py:43: UserWarning: You have unused kwarg parameters in Dataframe, please remove them: {'data': dataframe}\n",
      "  warnings.warn(\n"
     ]
    },
    {
     "name": "stdout",
     "output_type": "stream",
     "text": [
      "Running on local URL:  http://127.0.0.1:7868\n",
      "\n",
      "To create a public link, set `share=True` in `launch()`.\n"
     ]
    },
    {
     "data": {
      "text/html": [
       "<div><iframe src=\"http://127.0.0.1:7868/\" width=\"100%\" height=\"500\" allow=\"autoplay; camera; microphone; clipboard-read; clipboard-write;\" frameborder=\"0\" allowfullscreen></iframe></div>"
      ],
      "text/plain": [
       "<IPython.core.display.HTML object>"
      ]
     },
     "metadata": {},
     "output_type": "display_data"
    }
   ],
   "source": [
    "# define processing functions\n",
    "def import_xlsx(file):\n",
    "    # xls = pd.ExcelFile(file.name)\n",
    "    # raw_data_sheet_names = xls.sheet_names\n",
    "    df = pd.read_csv(file.name)\n",
    "    return df, df.to_html()#, raw_data_sheet_names\n",
    "        \n",
    "def merge_dfs(df1, df2):\n",
    "    result = pd.concat([df1, df2], axis=0)\n",
    "    return result\n",
    "\n",
    "# define gradio display\n",
    "with gr.Blocks() as demo:\n",
    "    # First block\n",
    "    file_input = gr.File()\n",
    "    df_output = gr.Dataframe(type='pandas', visible=False)\n",
    "    df_display_output = gr.HTML()\n",
    "    submit = gr.Button(\"Import XLSX File\")\n",
    "    submit.click(import_csv, file_input, [df_output, df_display_output])\n",
    "\n",
    "    # Second block\n",
    "    df_input1 = gr.Dataframe(interactive=True, data=df_output)\n",
    "    df_input2 = gr.Dataframe(interactive=True)\n",
    "    merged_output = gr.Dataframe()\n",
    "    merge_button = gr.Button(\"Merge\")\n",
    "    merge_button.click(merge_dfs, [df_input1, df_input2], merged_output)\n",
    "    \n",
    "    demo.launch()"
   ]
  },
  {
   "cell_type": "code",
   "execution_count": 13,
   "id": "1f2c81af-6ba8-4e84-8e9b-3c7ed398e431",
   "metadata": {
    "execution": {
     "iopub.execute_input": "2023-05-03T16:13:30.497305Z",
     "iopub.status.busy": "2023-05-03T16:13:30.496319Z",
     "iopub.status.idle": "2023-05-03T16:13:30.589764Z",
     "shell.execute_reply": "2023-05-03T16:13:30.589764Z",
     "shell.execute_reply.started": "2023-05-03T16:13:30.497305Z"
    },
    "tags": []
   },
   "outputs": [
    {
     "name": "stderr",
     "output_type": "stream",
     "text": [
      "C:\\Users\\gcmar\\.conda\\envs\\elo_311\\Lib\\site-packages\\gradio\\outputs.py:22: UserWarning: Usage of gradio.outputs is deprecated, and will not be supported in the future, please import your components from gradio.components\n",
      "  warnings.warn(\n"
     ]
    },
    {
     "name": "stdout",
     "output_type": "stream",
     "text": [
      "Running on local URL:  http://127.0.0.1:7866\n",
      "\n",
      "To create a public link, set `share=True` in `launch()`.\n"
     ]
    },
    {
     "data": {
      "text/html": [
       "<div><iframe src=\"http://127.0.0.1:7866/\" width=\"100%\" height=\"500\" allow=\"autoplay; camera; microphone; clipboard-read; clipboard-write;\" frameborder=\"0\" allowfullscreen></iframe></div>"
      ],
      "text/plain": [
       "<IPython.core.display.HTML object>"
      ]
     },
     "metadata": {},
     "output_type": "display_data"
    },
    {
     "data": {
      "text/plain": []
     },
     "execution_count": 13,
     "metadata": {},
     "output_type": "execute_result"
    }
   ],
   "source": [
    "def process_input(input_text):\n",
    "    return f\"Input Text: {input_text}\"\n",
    "\n",
    "with gr.Blocks() as demo:\n",
    "    # First block\n",
    "    input_text = gr.Text(type=\"text\", label=\"Sheets registered\")\n",
    "    submit = gr.Button(\"Submit\")\n",
    "    output = gr.outputs.Textbox()\n",
    "    submit.click(process_input, input_text, output)\n",
    "\n",
    "    # Second block\n",
    "    tabs_lst = [\"1\", \"2\", \"3\"]\n",
    "    with gr.Tabs():\n",
    "        for i in tabs_lst:\n",
    "            with gr.TabItem(i):\n",
    "                output = gr.Textbox(i)\n",
    "            \n",
    "\n",
    "demo.launch()"
   ]
  },
  {
   "cell_type": "code",
   "execution_count": 4,
   "id": "755bb121-cc42-40bd-82ba-350d5ef5b6eb",
   "metadata": {
    "execution": {
     "iopub.execute_input": "2023-05-03T15:53:17.583863Z",
     "iopub.status.busy": "2023-05-03T15:53:17.583863Z",
     "iopub.status.idle": "2023-05-03T15:53:19.196596Z",
     "shell.execute_reply": "2023-05-03T15:53:19.195573Z",
     "shell.execute_reply.started": "2023-05-03T15:53:17.583863Z"
    },
    "tags": []
   },
   "outputs": [
    {
     "name": "stderr",
     "output_type": "stream",
     "text": [
      "C:\\Users\\gcmar\\.conda\\envs\\elo_311\\Lib\\site-packages\\gradio\\inputs.py:121: UserWarning: Usage of gradio.inputs is deprecated, and will not be supported in the future, please import your component from gradio.components\n",
      "  warnings.warn(\n",
      "C:\\Users\\gcmar\\.conda\\envs\\elo_311\\Lib\\site-packages\\gradio\\deprecation.py:40: UserWarning: `optional` parameter is deprecated, and it has no effect\n",
      "  warnings.warn(value)\n"
     ]
    },
    {
     "name": "stdout",
     "output_type": "stream",
     "text": [
      "Running on local URL:  http://127.0.0.1:7862\n",
      "\n",
      "To create a public link, set `share=True` in `launch()`.\n"
     ]
    },
    {
     "data": {
      "text/html": [
       "<div><iframe src=\"http://127.0.0.1:7862/\" width=\"100%\" height=\"500\" allow=\"autoplay; camera; microphone; clipboard-read; clipboard-write;\" frameborder=\"0\" allowfullscreen></iframe></div>"
      ],
      "text/plain": [
       "<IPython.core.display.HTML object>"
      ]
     },
     "metadata": {},
     "output_type": "display_data"
    },
    {
     "data": {
      "text/plain": []
     },
     "execution_count": 4,
     "metadata": {},
     "output_type": "execute_result"
    }
   ],
   "source": [
    "def process_input(checkbox1, checkbox2):\n",
    "    return f\"Checkbox 1: {checkbox1}, Checkbox 2: {checkbox2}\"\n",
    "\n",
    "checkbox1 = gr.inputs.Checkbox(label=\"Checkbox 1\")\n",
    "checkbox2 = gr.inputs.Checkbox(label=\"Checkbox 2\")\n",
    "\n",
    "iface = gr.Interface(fn=process_input, inputs=[checkbox1, checkbox2], outputs=\"text\")\n",
    "iface.launch()"
   ]
  },
  {
   "cell_type": "code",
   "execution_count": null,
   "id": "2e98d12f-1af4-4eca-a3d7-0d4843d1a300",
   "metadata": {},
   "outputs": [],
   "source": []
  },
  {
   "cell_type": "code",
   "execution_count": null,
   "id": "7a45c4d3-4002-441c-8c9e-e24b3bef725a",
   "metadata": {},
   "outputs": [],
   "source": []
  },
  {
   "cell_type": "code",
   "execution_count": null,
   "id": "aa3f78aa-054a-480b-8b7d-2666e9d5cf5b",
   "metadata": {},
   "outputs": [],
   "source": []
  },
  {
   "cell_type": "code",
   "execution_count": null,
   "id": "f51ecc13-925c-4e60-a212-44a4309fe3b7",
   "metadata": {},
   "outputs": [],
   "source": []
  },
  {
   "cell_type": "code",
   "execution_count": null,
   "id": "dd225e68-ee43-498b-a88c-1788d2b551d2",
   "metadata": {},
   "outputs": [],
   "source": [
    "# # names of sheets to process\n",
    "# # if this list is empty all the sheets will be processed\n",
    "# inputted_sheet_names_list = [\n",
    "#     'CAGE1', \n",
    "#     'CAGE2', \n",
    "#     'CAGE3', \n",
    "#     'CAGE4'\n",
    "# ]\n",
    "\n",
    "# # name of column to use in all sheets whereupon sessions are divided\n",
    "# # date is the default\n",
    "# session_divider_column = 'date'\n",
    "\n",
    "# # define the row in which the headers are found\n",
    "# # The default is 0\n",
    "# # amke sure that all sheets designated for processing are in this ditionary\n",
    "# header_row_dict = {\n",
    "#     'CAGE1': 0, \n",
    "#     'CAGE4': 0\n",
    "# }\n",
    "\n",
    "# # define here which individuals have different original cages than the sheets they are found in\n",
    "# # the individual IDs and cage names should be the same as the format followed in the input exel file\n",
    "# id_to_cage = {\n",
    "#     \"4.2\":\"CAGE2\",\n",
    "#     \"1.1\":\"CAGE3\"\n",
    "# }\n",
    "\n",
    "# # define the strains of each individual\n",
    "# # individual IDs should follow the same format as what was in the input excel file\n",
    "# cage_to_strain = {\n",
    "#     '1.1':\"C57\",\n",
    "#     '1.2':\"C57\",\n",
    "#     '1.3':\"C57\",\n",
    "#     '1.4':\"C57\",\n",
    "#     '2.1':\"C57\",\n",
    "#     '2.2':\"C57\",\n",
    "#     '2.3':\"C57\",\n",
    "#     '2.4':\"C57\",\n",
    "#     '3.1':\"C57\",\n",
    "#     '3.2':\"C57\",\n",
    "#     '3.3':\"C57\",\n",
    "#     '3.4':\"C57\",\n",
    "#     '4.1':\"CD1\",\n",
    "#     '4.2':\"CD1\",\n",
    "#     '4.3':\"CD1\",\n",
    "#     '4.4':\"CD1\",\n",
    "#     '5.1':\"CD1\",\n",
    "#     '5.2':\"CD1\",\n",
    "#     '5.3':\"CD1\",\n",
    "#     '5.4':\"CD1\",\n",
    "#     '6.1':\"CD1\",\n",
    "#     '6.2':\"CD1\",\n",
    "#     '6.3':\"CD1\",\n",
    "#     '6.4':\"CD1\"\n",
    "# }\n",
    "\n",
    "# # Define names of the files and subfolers in the output folder \n",
    "# subfolder_name = \"tube_test_elo_scores_pilot_3\" # this defines the subfolder in the output folder where he results will be saved\n",
    "# all_sheet_scores_name = \"elo_score_history\" # name of the csv that contains all the processed information about all the input sheets\n",
    "# final_elo_score_name = \"final_elo_score\" # name of the csv file of the final ELO score of each individual\n",
    "# aggregate_all_pairwise_name = \"all_pairwise_results_aggregate\" "
   ]
  },
  {
   "cell_type": "code",
   "execution_count": null,
   "id": "43cd2431-63ac-4450-afd6-365a7319c031",
   "metadata": {},
   "outputs": [],
   "source": [
    "# make one app that takes the inputs directly with a single submit button and then a downaod csv button and a download plots button"
   ]
  },
  {
   "cell_type": "code",
   "execution_count": null,
   "id": "f3a926fb-4c1c-45c5-a28a-77076542853a",
   "metadata": {},
   "outputs": [],
   "source": [
    "# make app that reads csv of each sheet before processing"
   ]
  }
 ],
 "metadata": {
  "kernelspec": {
   "display_name": "Python 3 (ipykernel)",
   "language": "python",
   "name": "python3"
  },
  "language_info": {
   "codemirror_mode": {
    "name": "ipython",
    "version": 3
   },
   "file_extension": ".py",
   "mimetype": "text/x-python",
   "name": "python",
   "nbconvert_exporter": "python",
   "pygments_lexer": "ipython3",
   "version": "3.11.3"
  },
  "vscode": {
   "interpreter": {
    "hash": "3f8ee54d6a5e4a8880ade41546e056b482b8e637dc064f40b470e6968242c2bb"
   }
  }
 },
 "nbformat": 4,
 "nbformat_minor": 5
}
