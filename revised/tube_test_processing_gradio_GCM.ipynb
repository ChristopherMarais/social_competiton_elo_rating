{
 "cells": [
  {
   "cell_type": "markdown",
   "id": "9eea3ad7-91d7-4062-acc0-724b87bc22f1",
   "metadata": {},
   "source": [
    "### Imports"
   ]
  },
  {
   "cell_type": "code",
   "execution_count": 75,
   "id": "cdbf1ce4-a5c4-4941-8a5b-116686a35b46",
   "metadata": {
    "execution": {
     "iopub.execute_input": "2023-05-03T10:48:32.063291Z",
     "iopub.status.busy": "2023-05-03T10:48:32.063291Z",
     "iopub.status.idle": "2023-05-03T10:48:32.068419Z",
     "shell.execute_reply": "2023-05-03T10:48:32.067391Z",
     "shell.execute_reply.started": "2023-05-03T10:48:32.063291Z"
    },
    "tags": []
   },
   "outputs": [],
   "source": [
    "import gradio as gr\n",
    "import pandas as pd\n",
    "import numpy as np\n",
    "import os"
   ]
  },
  {
   "cell_type": "code",
   "execution_count": 87,
   "id": "462c9d16-13d7-44ee-aad0-c68b334c81db",
   "metadata": {
    "execution": {
     "iopub.execute_input": "2023-05-03T11:15:16.249031Z",
     "iopub.status.busy": "2023-05-03T11:15:16.248032Z",
     "iopub.status.idle": "2023-05-03T11:15:16.346796Z",
     "shell.execute_reply": "2023-05-03T11:15:16.345779Z",
     "shell.execute_reply.started": "2023-05-03T11:15:16.249031Z"
    },
    "tags": []
   },
   "outputs": [
    {
     "name": "stdout",
     "output_type": "stream",
     "text": [
      "Running on local URL:  http://127.0.0.1:7916\n",
      "\n",
      "To create a public link, set `share=True` in `launch()`.\n"
     ]
    },
    {
     "data": {
      "text/html": [
       "<div><iframe src=\"http://127.0.0.1:7916/\" width=\"100%\" height=\"500\" allow=\"autoplay; camera; microphone; clipboard-read; clipboard-write;\" frameborder=\"0\" allowfullscreen></iframe></div>"
      ],
      "text/plain": [
       "<IPython.core.display.HTML object>"
      ]
     },
     "metadata": {},
     "output_type": "display_data"
    }
   ],
   "source": [
    "def greet(name, num):\n",
    "    return \"Hello \" + name + \"!\", num * 5\n",
    "\n",
    "def square(num1, num2):\n",
    "    return (num1 + num2) ** 2\n",
    "\n",
    "with gr.Blocks() as demo:\n",
    "    # First block\n",
    "    name_input = gr.Textbox(label=\"Name\")\n",
    "    num_input = gr.Number(label=\"Number\")\n",
    "    greeting_output = gr.Textbox(label=\"Greeting\")\n",
    "    result_output = gr.Number(label=\"Result\")\n",
    "    greet_button = gr.Button(\"Greet\")\n",
    "    greet_button.click(greet, [name_input, num_input], [greeting_output, result_output])\n",
    "    \n",
    "    # Second block\n",
    "    num_input2 = gr.Number(label=\"Number\")\n",
    "    square_output = gr.Number(label=\"Squared\")\n",
    "    square_button = gr.Button(\"Square\")\n",
    "    square_button.click(square, [result_output, num_input2], square_output)\n",
    "    \n",
    "    demo.launch()"
   ]
  },
  {
   "cell_type": "code",
   "execution_count": 123,
   "id": "0ee51068-a13c-4a5d-b3f9-22db41ac42a6",
   "metadata": {
    "execution": {
     "iopub.execute_input": "2023-05-03T12:03:35.780408Z",
     "iopub.status.busy": "2023-05-03T12:03:35.780408Z",
     "iopub.status.idle": "2023-05-03T12:03:35.889151Z",
     "shell.execute_reply": "2023-05-03T12:03:35.887133Z",
     "shell.execute_reply.started": "2023-05-03T12:03:35.780408Z"
    },
    "tags": []
   },
   "outputs": [
    {
     "name": "stdout",
     "output_type": "stream",
     "text": [
      "Running on local URL:  http://127.0.0.1:7938\n",
      "\n",
      "To create a public link, set `share=True` in `launch()`.\n"
     ]
    },
    {
     "data": {
      "text/html": [
       "<div><iframe src=\"http://127.0.0.1:7938/\" width=\"100%\" height=\"500\" allow=\"autoplay; camera; microphone; clipboard-read; clipboard-write;\" frameborder=\"0\" allowfullscreen></iframe></div>"
      ],
      "text/plain": [
       "<IPython.core.display.HTML object>"
      ]
     },
     "metadata": {},
     "output_type": "display_data"
    }
   ],
   "source": [
    "def import_csv(file):\n",
    "    df = pd.read_csv(file.name)\n",
    "    return df\n",
    "        \n",
    "def merge_dfs(df1, df2):\n",
    "    result = pd.concat([df1, df2], axis=0)\n",
    "    return result\n",
    "\n",
    "with gr.Blocks() as demo:\n",
    "    # First block\n",
    "    file_input = gr.File()\n",
    "    df_output = gr.Dataframe(type='pandas')\n",
    "    submit = gr.Button(\"Submit\")\n",
    "    submit.click(import_csv, file_input, df_output)\n",
    "\n",
    "    # Second block\n",
    "    df_input1 = gr.Dataframe(interactive=True)\n",
    "    df_input2 = gr.Dataframe(interactive=True)\n",
    "    merged_output = gr.Dataframe()\n",
    "    merge_button = gr.Button(\"Merge\")\n",
    "    merge_button.click(merge_dfs, [df_input1, df_input2], merged_output)\n",
    "    \n",
    "    demo.launch()"
   ]
  },
  {
   "cell_type": "code",
   "execution_count": 94,
   "id": "5eaf2e4e-0b0f-4992-ab1b-76f96ce2f0ac",
   "metadata": {
    "execution": {
     "iopub.execute_input": "2023-05-03T11:32:18.248320Z",
     "iopub.status.busy": "2023-05-03T11:32:18.248320Z",
     "iopub.status.idle": "2023-05-03T11:32:18.342766Z",
     "shell.execute_reply": "2023-05-03T11:32:18.340743Z",
     "shell.execute_reply.started": "2023-05-03T11:32:18.248320Z"
    },
    "tags": []
   },
   "outputs": [
    {
     "name": "stderr",
     "output_type": "stream",
     "text": [
      "C:\\Users\\gcmar\\.conda\\envs\\elo_311\\Lib\\site-packages\\gradio\\inputs.py:27: UserWarning: Usage of gradio.inputs is deprecated, and will not be supported in the future, please import your component from gradio.components\n",
      "  warnings.warn(\n",
      "C:\\Users\\gcmar\\.conda\\envs\\elo_311\\Lib\\site-packages\\gradio\\deprecation.py:40: UserWarning: `optional` parameter is deprecated, and it has no effect\n",
      "  warnings.warn(value)\n",
      "C:\\Users\\gcmar\\.conda\\envs\\elo_311\\Lib\\site-packages\\gradio\\deprecation.py:40: UserWarning: `numeric` parameter is deprecated, and it has no effect\n",
      "  warnings.warn(value)\n",
      "C:\\Users\\gcmar\\.conda\\envs\\elo_311\\Lib\\site-packages\\gradio\\outputs.py:22: UserWarning: Usage of gradio.outputs is deprecated, and will not be supported in the future, please import your components from gradio.components\n",
      "  warnings.warn(\n"
     ]
    },
    {
     "name": "stdout",
     "output_type": "stream",
     "text": [
      "Running on local URL:  http://127.0.0.1:7923\n",
      "\n",
      "To create a public link, set `share=True` in `launch()`.\n"
     ]
    },
    {
     "data": {
      "text/html": [
       "<div><iframe src=\"http://127.0.0.1:7923/\" width=\"100%\" height=\"500\" allow=\"autoplay; camera; microphone; clipboard-read; clipboard-write;\" frameborder=\"0\" allowfullscreen></iframe></div>"
      ],
      "text/plain": [
       "<IPython.core.display.HTML object>"
      ]
     },
     "metadata": {},
     "output_type": "display_data"
    }
   ],
   "source": [
    "def my_function(input):\n",
    "    output1 = input + \"aaaaaaaaa\"\n",
    "    output2 = input + \"bbbbbbbbb\"\n",
    "    return (output1, output2)\n",
    "\n",
    "with gr.Blocks() as demo:\n",
    "    # First block\n",
    "    input = gr.inputs.Textbox()\n",
    "    output1 = gr.outputs.Textbox()\n",
    "    output2 = gr.outputs.Textbox()\n",
    "    submit = gr.Button(\"Submit\")\n",
    "    \n",
    "    submit.click(my_function, input, [output1, output2])\n",
    "    \n",
    "    demo.launch()"
   ]
  },
  {
   "cell_type": "code",
   "execution_count": null,
   "id": "dd225e68-ee43-498b-a88c-1788d2b551d2",
   "metadata": {},
   "outputs": [],
   "source": []
  }
 ],
 "metadata": {
  "kernelspec": {
   "display_name": "Python 3 (ipykernel)",
   "language": "python",
   "name": "python3"
  },
  "language_info": {
   "codemirror_mode": {
    "name": "ipython",
    "version": 3
   },
   "file_extension": ".py",
   "mimetype": "text/x-python",
   "name": "python",
   "nbconvert_exporter": "python",
   "pygments_lexer": "ipython3",
   "version": "3.11.3"
  },
  "vscode": {
   "interpreter": {
    "hash": "3f8ee54d6a5e4a8880ade41546e056b482b8e637dc064f40b470e6968242c2bb"
   }
  }
 },
 "nbformat": 4,
 "nbformat_minor": 5
}
