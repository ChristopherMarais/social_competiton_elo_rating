{
 "cells": [
  {
   "cell_type": "markdown",
   "id": "9eea3ad7-91d7-4062-acc0-724b87bc22f1",
   "metadata": {},
   "source": [
    "### Imports"
   ]
  },
  {
   "cell_type": "code",
   "execution_count": 1,
   "id": "cf755b46",
   "metadata": {
    "execution": {
     "iopub.execute_input": "2023-05-02T08:38:49.627836Z",
     "iopub.status.busy": "2023-05-02T08:38:49.626828Z",
     "iopub.status.idle": "2023-05-02T08:38:51.262841Z",
     "shell.execute_reply": "2023-05-02T08:38:51.261792Z",
     "shell.execute_reply.started": "2023-05-02T08:38:49.627836Z"
    },
    "tags": []
   },
   "outputs": [],
   "source": [
    "import re\n",
    "import os\n",
    "import sys\n",
    "import warnings\n",
    "import git\n",
    "import matplotlib.pyplot as plt\n",
    "import pandas as pd\n",
    "import plotly.graph_objs as go\n",
    "import plotly.io as pio\n",
    "pio.renderers.default = 'jupyterlab'\n",
    "\n",
    "# Import own functions\n",
    "# Getting the path of the root directory so that we can import repo specific functions\n",
    "git_repo_object = git.Repo('.', search_parent_directories=True)\n",
    "git_repo_directory = git_repo_object.working_tree_dir\n",
    "\n",
    "# Setting path so that we can import functions\n",
    "sys.path.append(os.path.join(git_repo_directory, \"src\"))\n",
    "\n",
    "from elorating import calculation, dataframe # own functions"
   ]
  },
  {
   "cell_type": "markdown",
   "id": "5d84652d-ef64-4649-aa9e-f84e6d7e406d",
   "metadata": {},
   "source": [
    "# Summary\n",
    "\n",
    "- Experiment\n",
    "    - Observing competitve behavior between two mice inside a tube. Mice are categorized as winner and loser based on if they pushed the other mouse out of the tube or were pushed.\n",
    "- Data\n",
    "    - Excel spreadsheet of recorded tube test results. The relevant columns are those of the \"Date\" of the recording, the \"winner\" of the interaction, and the \"loser\" of the interaction. Each row will be for one interaction between two mice.\n",
    "    - There is a cage for each sheet of the spreadsheet\n",
    "    - For each recording session, we will assume that the date will be specified for that first row. We will use this to seperate all the rows into seperate sessions.\n",
    "- Purpose of this Jupyter Notebook\n",
    "    - To calculate the Elo rating of each mice after each interaction. The mice start off with an Elo rating of 1000. Elo ratings are calculated with the formula from here: https://www.omnicalculator.com/sports/elo . Then we will plot the change of Elo rating across all interactions. With the number of interactions on the X-Axis and the current Elo rating on the Y. There will be a line for mice."
   ]
  },
  {
   "cell_type": "markdown",
   "id": "dbf3a6cc-bcc9-4097-91c2-6786bd61d161",
   "metadata": {},
   "source": [
    "# Notebook Parameters\n",
    "Define all parameters and configurations in the following cell to run the entire notebook."
   ]
  },
  {
   "cell_type": "code",
   "execution_count": 22,
   "id": "745792d3-9f4e-4e9b-946f-c91614ac9b54",
   "metadata": {
    "execution": {
     "iopub.execute_input": "2023-05-02T11:16:06.900703Z",
     "iopub.status.busy": "2023-05-02T11:16:06.900703Z",
     "iopub.status.idle": "2023-05-02T11:16:06.918225Z",
     "shell.execute_reply": "2023-05-02T11:16:06.917236Z",
     "shell.execute_reply.started": "2023-05-02T11:16:06.900703Z"
    },
    "tags": []
   },
   "outputs": [],
   "source": [
    "# full path to the excel file that will be taken as input to this notebook\n",
    "# if only a name of the file is given it will look ofr hte file in the same directory as this script/notebook\n",
    "raw_data_file_path = r\"C:\\Users\\gcmar\\Desktop\\GIT_REPOS\\social_competiton_elo_rating\\jupyter_notebooks\\data\\pilot_3_tube_test.xlsx\"\n",
    "\n",
    "# names of sheets to process\n",
    "# if this list is empty all the sheets will be processed\n",
    "inputted_sheet_names_list = [\n",
    "    'CAGE1', \n",
    "    'CAGE2', \n",
    "    'CAGE3', \n",
    "    'CAGE4'\n",
    "]\n",
    "\n",
    "# name of column to use in all sheets whereupon sessions are divided\n",
    "# date is the default\n",
    "session_divider_column = 'date'\n",
    "\n",
    "# define the row in which the headers are found\n",
    "# The default is 0\n",
    "# amke sure that all sheets designated for processing are in this ditionary\n",
    "header_row_dict = {\n",
    "    'CAGE1': 0, \n",
    "    'CAGE4': 0\n",
    "}\n",
    "\n",
    "# define here which individuals have different original cages than the sheets they are found in\n",
    "# the individual IDs and cage names should be the same as the format followed in the input exel file\n",
    "id_to_cage = {\n",
    "    \"4.2\":\"CAGE2\",\n",
    "    \"1.1\":\"CAGE3\"\n",
    "}\n",
    "\n",
    "# define the strains of each individual\n",
    "# individual IDs should follow the same format as what was in the input excel file\n",
    "cage_to_strain = {\n",
    "    '1.1':\"C57\",\n",
    "    '1.2':\"C57\",\n",
    "    '1.3':\"C57\",\n",
    "    '1.4':\"C57\",\n",
    "    '2.1':\"C57\",\n",
    "    '2.2':\"C57\",\n",
    "    '2.3':\"C57\",\n",
    "    '2.4':\"C57\",\n",
    "    '3.1':\"C57\",\n",
    "    '3.2':\"C57\",\n",
    "    '3.3':\"C57\",\n",
    "    '3.4':\"C57\",\n",
    "    '4.1':\"CD1\",\n",
    "    '4.2':\"CD1\",\n",
    "    '4.3':\"CD1\",\n",
    "    '4.4':\"CD1\",\n",
    "    '5.1':\"CD1\",\n",
    "    '5.2':\"CD1\",\n",
    "    '5.3':\"CD1\",\n",
    "    '5.4':\"CD1\",\n",
    "    '6.1':\"CD1\",\n",
    "    '6.2':\"CD1\",\n",
    "    '6.3':\"CD1\",\n",
    "    '6.4':\"CD1\"\n",
    "}\n",
    "\n",
    "# Define names of the files and subfolers in the output folder \n",
    "subfolder_name = \"tube_test_elo_scores_pilot_3\" # this defines the subfolder in the output folder where he results will be saved\n",
    "all_sheet_scores_name = \"elo_score_history\" # name of the csv that contains all the processed information about all the input sheets\n",
    "final_elo_score_name = \"final_elo_score\" # name of the csv file of the final ELO score of each individual\n",
    "aggregate_all_pairwise_name = \"all_pairwise_results_aggregate\" # name of the csv that aggregates all pairwise interactions that were performed\n",
    "\n",
    "# define whether plots should be printed or not\n",
    "save_plots = True"
   ]
  },
  {
   "cell_type": "markdown",
   "id": "b37a98bc-5af9-4ed3-a245-883172361a2c",
   "metadata": {},
   "source": [
    "### *NOTE: No inputs required after this line\n",
    "# ____________________________________________________________________________"
   ]
  },
  {
   "cell_type": "markdown",
   "id": "0d8bf646-688d-458b-b06d-c0f880febd2d",
   "metadata": {},
   "source": [
    "# Process XLSX file\n",
    "### Define output directory here"
   ]
  },
  {
   "cell_type": "code",
   "execution_count": 12,
   "id": "2131cefa-8717-468f-be47-6a4586146a97",
   "metadata": {
    "execution": {
     "iopub.execute_input": "2023-05-02T08:59:09.944659Z",
     "iopub.status.busy": "2023-05-02T08:59:09.944659Z",
     "iopub.status.idle": "2023-05-02T08:59:09.955711Z",
     "shell.execute_reply": "2023-05-02T08:59:09.954692Z",
     "shell.execute_reply.started": "2023-05-02T08:59:09.944659Z"
    }
   },
   "outputs": [],
   "source": [
    "# make a directory to store data in\n",
    "output_dir = os.path.join(\".\", \"output\", f\"{subfolder_name}\")\n",
    "os.makedirs(output_dir, exist_ok=True)"
   ]
  },
  {
   "cell_type": "markdown",
   "id": "371ec8db-bee4-4432-9877-c63956b9524f",
   "metadata": {},
   "source": [
    "### Perform calculations on each sheet in XLSX file"
   ]
  },
  {
   "cell_type": "code",
   "execution_count": 3,
   "id": "c54cfc84-67d7-48c2-963a-e003e4710967",
   "metadata": {
    "execution": {
     "iopub.execute_input": "2023-05-02T08:38:51.280859Z",
     "iopub.status.busy": "2023-05-02T08:38:51.280859Z",
     "iopub.status.idle": "2023-05-02T08:38:51.719378Z",
     "shell.execute_reply": "2023-05-02T08:38:51.718373Z",
     "shell.execute_reply.started": "2023-05-02T08:38:51.280859Z"
    },
    "tags": []
   },
   "outputs": [
    {
     "name": "stderr",
     "output_type": "stream",
     "text": [
      "C:\\Users\\gcmar\\AppData\\Local\\Temp\\ipykernel_21940\\3600979959.py:47: UserWarning:\n",
      "\n",
      "No 'ties' column detected for CAGE1 sheet.\n",
      "Please make sure the sheets in the excel file are in the correct format!\n",
      "\n",
      "C:\\Users\\gcmar\\AppData\\Local\\Temp\\ipykernel_21940\\3600979959.py:47: UserWarning:\n",
      "\n",
      "No 'ties' column detected for CAGE2 sheet.\n",
      "Please make sure the sheets in the excel file are in the correct format!\n",
      "\n",
      "C:\\Users\\gcmar\\AppData\\Local\\Temp\\ipykernel_21940\\3600979959.py:47: UserWarning:\n",
      "\n",
      "No 'ties' column detected for CAGE3 sheet.\n",
      "Please make sure the sheets in the excel file are in the correct format!\n",
      "\n",
      "C:\\Users\\gcmar\\AppData\\Local\\Temp\\ipykernel_21940\\3600979959.py:47: UserWarning:\n",
      "\n",
      "No 'ties' column detected for CAGE4 sheet.\n",
      "Please make sure the sheets in the excel file are in the correct format!\n",
      "\n"
     ]
    }
   ],
   "source": [
    "# Getting the sheet names for the excel file\n",
    "xls = pd.ExcelFile(raw_data_file_path)\n",
    "raw_data_sheet_names = xls.sheet_names\n",
    "if not inputted_sheet_names_list:\n",
    "    inputted_sheet_names_list = raw_data_sheet_names\n",
    "# SELECT sheets from raw_data_sheet_names into inputted_sheet_names_list\n",
    "# Going through each sheet and creating a dataframe of it from excel object that is already loaded\n",
    "sheet_df_dict = {}\n",
    "elo_df_dict = {}\n",
    "all_earlist_dates = []\n",
    "all_latest_dates = []\n",
    "for selected_sheet_name in inputted_sheet_names_list:\n",
    "    \n",
    "    # drop rows with no winner or loser values\n",
    "    try:\n",
    "        sheet_df_dict[selected_sheet_name] = pd.read_excel(xls, sheet_name=selected_sheet_name, header=header_row_dict[selected_sheet_name]).dropna(subset=['winner', 'loser'])\n",
    "        sheet_df_dict[selected_sheet_name][\"cage\"] = selected_sheet_name\n",
    "    except:\n",
    "        sheet_df_dict[selected_sheet_name] = pd.read_excel(xls, sheet_name=selected_sheet_name, header=0).dropna(subset=['winner', 'loser'])\n",
    "        sheet_df_dict[selected_sheet_name][\"cage\"] = selected_sheet_name\n",
    "    \n",
    "    # Getting all the floats from the strings, removing any spaces and other characters\n",
    "    try:\n",
    "        sheet_df_dict[selected_sheet_name]['winner'] = sheet_df_dict[selected_sheet_name]['winner'].astype(str).apply(lambda x: re.findall(r\"[-+]?(?:\\d*\\.\\d+|\\d+)\", x)[0] if re.findall(r\"[-+]?(?:\\d*\\.\\d+|\\d+)\", x) else x)\n",
    "        sheet_df_dict[selected_sheet_name]['loser'] = sheet_df_dict[selected_sheet_name]['loser'].astype(str).apply(lambda x: re.findall(r\"[-+]?(?:\\d*\\.\\d+|\\d+)\", x)[0] if re.findall(r\"[-+]?(?:\\d*\\.\\d+|\\d+)\", x) else x)\n",
    "    except:\n",
    "        warnings.warn(f\"No 'winner' or 'loser' column(s) detected for {selected_sheet_name} sheet.\\n\"+\n",
    "              \"Please make sure the sheets in the excel file are in the correct format!\")\n",
    "    \n",
    "    # fill the empty cells in the date (session) column with values from above if a date column is present\n",
    "    try:\n",
    "        sheet_df_dict[selected_sheet_name]['date'] = sheet_df_dict[selected_sheet_name]['date'].fillna(method='ffill')\n",
    "    except:\n",
    "        warnings.warn(f\"No 'date' column detected for {selected_sheet_name} sheet.\\n\"+\n",
    "             \"Please make sure the sheets in the excel file are in the correct format!\")\n",
    "    \n",
    "    # fill the empty cells in the runner column with values from above if a runner column is present\n",
    "    try:\n",
    "        sheet_df_dict[selected_sheet_name]['runner'] = sheet_df_dict[selected_sheet_name]['runner'].fillna(method='ffill')\n",
    "    except:\n",
    "        warnings.warn(f\"No 'runner' column detected for {selected_sheet_name} sheet.\\n\"+ \n",
    "             \"Please make sure the sheets in the excel file are in the correct format!\")\n",
    "    \n",
    "    # fill the empty cells in the ties column with values from above if a ties column is present\n",
    "    # dropping all rows without 'winner' or 'loser' column values removes ties rows\n",
    "    try:\n",
    "        sheet_df_dict[selected_sheet_name]['ties'] = sheet_df_dict[selected_sheet_name]['ties'].fillna(0).astype(bool)            \n",
    "    except:\n",
    "        warnings.warn(f\"No 'ties' column detected for {selected_sheet_name} sheet.\\n\"+ \n",
    "             \"Please make sure the sheets in the excel file are in the correct format!\")\n",
    "    \n",
    "    # Seeing which rows have a different session than the previous one\n",
    "    # This will be used to plot vertical lines for each new session       \n",
    "    sheet_df_dict[selected_sheet_name][\"session_number_difference\"] = sheet_df_dict[selected_sheet_name][session_divider_column].astype('category').cat.codes.diff()\n",
    "    sheet_df_dict[selected_sheet_name][\"session_number_difference\"] = sheet_df_dict[selected_sheet_name][\"session_number_difference\"].fillna(1)\n",
    "    \n",
    "    # add the cage number of the winner and loser (default is the sheet name)\n",
    "    # map cage updates to mosue ID if mouse has a different original cage\n",
    "    sheet_df_dict[selected_sheet_name][\"winner_cage\"] = sheet_df_dict[selected_sheet_name].apply(lambda row: id_to_cage.get(row[\"winner\"], selected_sheet_name), axis=1)\n",
    "    sheet_df_dict[selected_sheet_name][\"loser_cage\"] = sheet_df_dict[selected_sheet_name].apply(lambda row: id_to_cage.get(row[\"loser\"], selected_sheet_name), axis=1)\n",
    "    \n",
    "    # Calculate the ELO score\n",
    "    try:    \n",
    "        elo_dict = calculation.iterate_elo_rating_calculation_for_dataframe(dataframe=sheet_df_dict[selected_sheet_name],\n",
    "                                                                            winner_id_column='winner', \n",
    "                                                                            loser_id_column='loser',\n",
    "                                                                            additional_columns=sheet_df_dict[selected_sheet_name].columns.tolist(), \n",
    "                                                                            tie_column='ties')\n",
    "    except:\n",
    "        elo_dict = calculation.iterate_elo_rating_calculation_for_dataframe(dataframe=sheet_df_dict[selected_sheet_name],\n",
    "                                                                            winner_id_column='winner', \n",
    "                                                                            loser_id_column='loser',\n",
    "                                                                            additional_columns=sheet_df_dict[selected_sheet_name].columns.tolist(),\n",
    "                                                                            tie_column=None)\n",
    "    # convert output of function dicionary to pandas dataframe \n",
    "    elo_df_dict[selected_sheet_name] = pd.DataFrame(elo_dict).T\n",
    "    \n",
    "    # add subject and agent cage IDs\n",
    "    elo_df_dict[selected_sheet_name][\"subject_cage\"] = elo_df_dict[selected_sheet_name][\"cage\"]\n",
    "    elo_df_dict[selected_sheet_name][\"agent_cage\"] = elo_df_dict[selected_sheet_name][\"cage\"]\n",
    "    elo_df_dict[selected_sheet_name][\"subject_cage\"] = elo_df_dict[selected_sheet_name].apply(lambda row: id_to_cage.get(row[\"subject_id\"], selected_sheet_name), axis=1)\n",
    "    elo_df_dict[selected_sheet_name][\"agent_cage\"] = elo_df_dict[selected_sheet_name].apply(lambda row: id_to_cage.get(row[\"agent_id\"], selected_sheet_name), axis=1)\n",
    "    \n",
    "    # get earliest and latest dates\n",
    "    all_earlist_dates.append(elo_df_dict[selected_sheet_name][session_divider_column].min())\n",
    "    all_latest_dates.append(elo_df_dict[selected_sheet_name][session_divider_column].max())"
   ]
  },
  {
   "cell_type": "markdown",
   "id": "c77e442b-8f61-4dce-bf53-f6e5d11b6434",
   "metadata": {},
   "source": [
    "### Combine all processed sheets into a single file for further processing\n",
    "The output csv that contains all the processed sheets in one file is generated here alongside the csv containing the final ELO score of each individual "
   ]
  },
  {
   "cell_type": "code",
   "execution_count": 4,
   "id": "2589d820-3649-4a29-952c-5f377ae4cb95",
   "metadata": {
    "execution": {
     "iopub.execute_input": "2023-05-02T08:38:51.721389Z",
     "iopub.status.busy": "2023-05-02T08:38:51.720373Z",
     "iopub.status.idle": "2023-05-02T08:38:51.750128Z",
     "shell.execute_reply": "2023-05-02T08:38:51.749122Z",
     "shell.execute_reply.started": "2023-05-02T08:38:51.721389Z"
    },
    "tags": []
   },
   "outputs": [],
   "source": [
    "# Combining all the dataframes into one\n",
    "all_sheet_elo_score_df = pd.concat(list(elo_df_dict.values()))\n",
    "\n",
    "# get all unique IDs\n",
    "all_subject_ids = set(all_sheet_elo_score_df[\"subject_id\"].unique()).union(set(all_sheet_elo_score_df[\"agent_id\"].unique()))\n",
    "\n",
    "# add strain data (default is the id)\n",
    "if cage_to_strain:\n",
    "    all_sheet_elo_score_df[\"subject_strain\"] = all_sheet_elo_score_df[\"subject_id\"]\n",
    "    all_sheet_elo_score_df[\"agent_strain\"] = all_sheet_elo_score_df[\"agent_id\"]\n",
    "    all_sheet_elo_score_df[\"subject_strain\"] = all_sheet_elo_score_df['subject_id'].replace(cage_to_strain)\n",
    "    all_sheet_elo_score_df[\"agent_strain\"] = all_sheet_elo_score_df['agent_id'].replace(cage_to_strain)\n",
    "\n",
    "# get final elo score for each subject\n",
    "final_subject_elo_score_df = all_sheet_elo_score_df.drop_duplicates(subset='subject_id', keep='last')\n",
    "\n",
    "# get rank for each elo score\n",
    "final_subject_elo_score_df = final_subject_elo_score_df.copy()\n",
    "final_subject_elo_score_df[\"rank\"] = final_subject_elo_score_df.groupby(\"subject_cage\")[\"updated_elo_rating\"].rank(\"dense\", ascending=False)\n",
    "final_subject_elo_score_df = final_subject_elo_score_df[[\"subject_id\",\"subject_cage\",\"updated_elo_rating\",\"rank\"]].reset_index(drop=True)\n",
    "\n",
    "# Turning the Dates into a easier to read format\n",
    "# Getting the 0th part of split to remove seconds\n",
    "try:\n",
    "    earliest_date = str(min(all_earlist_dates)).split()[0]\n",
    "    latest_date = str(max(all_latest_dates)).split()[0]\n",
    "except:\n",
    "    earliest_date = None\n",
    "    latest_date = None\n",
    "    \n",
    "# get cages list\n",
    "all_cages_list = inputted_sheet_names_list"
   ]
  },
  {
   "cell_type": "code",
   "execution_count": 5,
   "id": "fecb926b-f6e6-4682-a0e8-d96b82ecaca8",
   "metadata": {
    "execution": {
     "iopub.execute_input": "2023-05-02T08:38:51.752132Z",
     "iopub.status.busy": "2023-05-02T08:38:51.752132Z",
     "iopub.status.idle": "2023-05-02T08:38:51.782126Z",
     "shell.execute_reply": "2023-05-02T08:38:51.781144Z",
     "shell.execute_reply.started": "2023-05-02T08:38:51.752132Z"
    },
    "tags": []
   },
   "outputs": [
    {
     "data": {
      "text/html": [
       "<div>\n",
       "<style scoped>\n",
       "    .dataframe tbody tr th:only-of-type {\n",
       "        vertical-align: middle;\n",
       "    }\n",
       "\n",
       "    .dataframe tbody tr th {\n",
       "        vertical-align: top;\n",
       "    }\n",
       "\n",
       "    .dataframe thead th {\n",
       "        text-align: right;\n",
       "    }\n",
       "</style>\n",
       "<table border=\"1\" class=\"dataframe\">\n",
       "  <thead>\n",
       "    <tr style=\"text-align: right;\">\n",
       "      <th></th>\n",
       "      <th>total_match_number</th>\n",
       "      <th>subject_id</th>\n",
       "      <th>agent_id</th>\n",
       "      <th>original_elo_rating</th>\n",
       "      <th>updated_elo_rating</th>\n",
       "      <th>win_draw_loss</th>\n",
       "      <th>subject_ranking</th>\n",
       "      <th>agent_ranking</th>\n",
       "      <th>pairing_index</th>\n",
       "      <th>runner</th>\n",
       "      <th>...</th>\n",
       "      <th>loser</th>\n",
       "      <th>notes</th>\n",
       "      <th>cage</th>\n",
       "      <th>session_number_difference</th>\n",
       "      <th>winner_cage</th>\n",
       "      <th>loser_cage</th>\n",
       "      <th>subject_cage</th>\n",
       "      <th>agent_cage</th>\n",
       "      <th>subject_strain</th>\n",
       "      <th>agent_strain</th>\n",
       "    </tr>\n",
       "  </thead>\n",
       "  <tbody>\n",
       "    <tr>\n",
       "      <th>0</th>\n",
       "      <td>1</td>\n",
       "      <td>1.1</td>\n",
       "      <td>1.2</td>\n",
       "      <td>1000</td>\n",
       "      <td>1010.0</td>\n",
       "      <td>1</td>\n",
       "      <td>1</td>\n",
       "      <td>2</td>\n",
       "      <td>0</td>\n",
       "      <td>Jocelyn</td>\n",
       "      <td>...</td>\n",
       "      <td>1.2</td>\n",
       "      <td>NaN</td>\n",
       "      <td>CAGE1</td>\n",
       "      <td>1.0</td>\n",
       "      <td>CAGE3</td>\n",
       "      <td>CAGE1</td>\n",
       "      <td>CAGE3</td>\n",
       "      <td>CAGE1</td>\n",
       "      <td>C57</td>\n",
       "      <td>C57</td>\n",
       "    </tr>\n",
       "    <tr>\n",
       "      <th>1</th>\n",
       "      <td>1</td>\n",
       "      <td>1.2</td>\n",
       "      <td>1.1</td>\n",
       "      <td>1000</td>\n",
       "      <td>990.0</td>\n",
       "      <td>0</td>\n",
       "      <td>2</td>\n",
       "      <td>1</td>\n",
       "      <td>1</td>\n",
       "      <td>Jocelyn</td>\n",
       "      <td>...</td>\n",
       "      <td>1.2</td>\n",
       "      <td>NaN</td>\n",
       "      <td>CAGE1</td>\n",
       "      <td>1.0</td>\n",
       "      <td>CAGE3</td>\n",
       "      <td>CAGE1</td>\n",
       "      <td>CAGE1</td>\n",
       "      <td>CAGE3</td>\n",
       "      <td>C57</td>\n",
       "      <td>C57</td>\n",
       "    </tr>\n",
       "    <tr>\n",
       "      <th>2</th>\n",
       "      <td>2</td>\n",
       "      <td>1.2</td>\n",
       "      <td>1.3</td>\n",
       "      <td>990.0</td>\n",
       "      <td>1000.3</td>\n",
       "      <td>1</td>\n",
       "      <td>2</td>\n",
       "      <td>3</td>\n",
       "      <td>0</td>\n",
       "      <td>Jocelyn</td>\n",
       "      <td>...</td>\n",
       "      <td>1.3</td>\n",
       "      <td>NaN</td>\n",
       "      <td>CAGE1</td>\n",
       "      <td>0.0</td>\n",
       "      <td>CAGE1</td>\n",
       "      <td>CAGE1</td>\n",
       "      <td>CAGE1</td>\n",
       "      <td>CAGE1</td>\n",
       "      <td>C57</td>\n",
       "      <td>C57</td>\n",
       "    </tr>\n",
       "    <tr>\n",
       "      <th>3</th>\n",
       "      <td>2</td>\n",
       "      <td>1.3</td>\n",
       "      <td>1.2</td>\n",
       "      <td>1000</td>\n",
       "      <td>989.7</td>\n",
       "      <td>0</td>\n",
       "      <td>3</td>\n",
       "      <td>2</td>\n",
       "      <td>1</td>\n",
       "      <td>Jocelyn</td>\n",
       "      <td>...</td>\n",
       "      <td>1.3</td>\n",
       "      <td>NaN</td>\n",
       "      <td>CAGE1</td>\n",
       "      <td>0.0</td>\n",
       "      <td>CAGE1</td>\n",
       "      <td>CAGE1</td>\n",
       "      <td>CAGE1</td>\n",
       "      <td>CAGE1</td>\n",
       "      <td>C57</td>\n",
       "      <td>C57</td>\n",
       "    </tr>\n",
       "    <tr>\n",
       "      <th>4</th>\n",
       "      <td>3</td>\n",
       "      <td>1.4</td>\n",
       "      <td>1.3</td>\n",
       "      <td>1000</td>\n",
       "      <td>1009.7</td>\n",
       "      <td>1</td>\n",
       "      <td>2</td>\n",
       "      <td>4</td>\n",
       "      <td>0</td>\n",
       "      <td>Jocelyn</td>\n",
       "      <td>...</td>\n",
       "      <td>1.3</td>\n",
       "      <td>NaN</td>\n",
       "      <td>CAGE1</td>\n",
       "      <td>0.0</td>\n",
       "      <td>CAGE1</td>\n",
       "      <td>CAGE1</td>\n",
       "      <td>CAGE1</td>\n",
       "      <td>CAGE1</td>\n",
       "      <td>C57</td>\n",
       "      <td>C57</td>\n",
       "    </tr>\n",
       "    <tr>\n",
       "      <th>...</th>\n",
       "      <td>...</td>\n",
       "      <td>...</td>\n",
       "      <td>...</td>\n",
       "      <td>...</td>\n",
       "      <td>...</td>\n",
       "      <td>...</td>\n",
       "      <td>...</td>\n",
       "      <td>...</td>\n",
       "      <td>...</td>\n",
       "      <td>...</td>\n",
       "      <td>...</td>\n",
       "      <td>...</td>\n",
       "      <td>...</td>\n",
       "      <td>...</td>\n",
       "      <td>...</td>\n",
       "      <td>...</td>\n",
       "      <td>...</td>\n",
       "      <td>...</td>\n",
       "      <td>...</td>\n",
       "      <td>...</td>\n",
       "      <td>...</td>\n",
       "    </tr>\n",
       "    <tr>\n",
       "      <th>91</th>\n",
       "      <td>46</td>\n",
       "      <td>4.4</td>\n",
       "      <td>4.1</td>\n",
       "      <td>844.6</td>\n",
       "      <td>838.2</td>\n",
       "      <td>0</td>\n",
       "      <td>4</td>\n",
       "      <td>3</td>\n",
       "      <td>1</td>\n",
       "      <td>Jocelyn</td>\n",
       "      <td>...</td>\n",
       "      <td>4.4</td>\n",
       "      <td>NaN</td>\n",
       "      <td>CAGE4</td>\n",
       "      <td>0.0</td>\n",
       "      <td>CAGE4</td>\n",
       "      <td>CAGE4</td>\n",
       "      <td>CAGE4</td>\n",
       "      <td>CAGE4</td>\n",
       "      <td>CD1</td>\n",
       "      <td>CD1</td>\n",
       "    </tr>\n",
       "    <tr>\n",
       "      <th>92</th>\n",
       "      <td>47</td>\n",
       "      <td>4.2</td>\n",
       "      <td>4.4</td>\n",
       "      <td>1152.6</td>\n",
       "      <td>1155.4</td>\n",
       "      <td>1</td>\n",
       "      <td>1</td>\n",
       "      <td>4</td>\n",
       "      <td>0</td>\n",
       "      <td>Jocelyn</td>\n",
       "      <td>...</td>\n",
       "      <td>4.4</td>\n",
       "      <td>NaN</td>\n",
       "      <td>CAGE4</td>\n",
       "      <td>0.0</td>\n",
       "      <td>CAGE2</td>\n",
       "      <td>CAGE4</td>\n",
       "      <td>CAGE2</td>\n",
       "      <td>CAGE4</td>\n",
       "      <td>CD1</td>\n",
       "      <td>CD1</td>\n",
       "    </tr>\n",
       "    <tr>\n",
       "      <th>93</th>\n",
       "      <td>47</td>\n",
       "      <td>4.4</td>\n",
       "      <td>4.2</td>\n",
       "      <td>838.2</td>\n",
       "      <td>835.4</td>\n",
       "      <td>0</td>\n",
       "      <td>4</td>\n",
       "      <td>1</td>\n",
       "      <td>1</td>\n",
       "      <td>Jocelyn</td>\n",
       "      <td>...</td>\n",
       "      <td>4.4</td>\n",
       "      <td>NaN</td>\n",
       "      <td>CAGE4</td>\n",
       "      <td>0.0</td>\n",
       "      <td>CAGE2</td>\n",
       "      <td>CAGE4</td>\n",
       "      <td>CAGE4</td>\n",
       "      <td>CAGE2</td>\n",
       "      <td>CD1</td>\n",
       "      <td>CD1</td>\n",
       "    </tr>\n",
       "    <tr>\n",
       "      <th>94</th>\n",
       "      <td>48</td>\n",
       "      <td>4.3</td>\n",
       "      <td>4.1</td>\n",
       "      <td>1025.9</td>\n",
       "      <td>1034.7</td>\n",
       "      <td>1</td>\n",
       "      <td>2</td>\n",
       "      <td>3</td>\n",
       "      <td>0</td>\n",
       "      <td>Jocelyn</td>\n",
       "      <td>...</td>\n",
       "      <td>4.1</td>\n",
       "      <td>NaN</td>\n",
       "      <td>CAGE4</td>\n",
       "      <td>0.0</td>\n",
       "      <td>CAGE4</td>\n",
       "      <td>CAGE4</td>\n",
       "      <td>CAGE4</td>\n",
       "      <td>CAGE4</td>\n",
       "      <td>CD1</td>\n",
       "      <td>CD1</td>\n",
       "    </tr>\n",
       "    <tr>\n",
       "      <th>95</th>\n",
       "      <td>48</td>\n",
       "      <td>4.1</td>\n",
       "      <td>4.3</td>\n",
       "      <td>983.3</td>\n",
       "      <td>974.5</td>\n",
       "      <td>0</td>\n",
       "      <td>3</td>\n",
       "      <td>2</td>\n",
       "      <td>1</td>\n",
       "      <td>Jocelyn</td>\n",
       "      <td>...</td>\n",
       "      <td>4.1</td>\n",
       "      <td>NaN</td>\n",
       "      <td>CAGE4</td>\n",
       "      <td>0.0</td>\n",
       "      <td>CAGE4</td>\n",
       "      <td>CAGE4</td>\n",
       "      <td>CAGE4</td>\n",
       "      <td>CAGE4</td>\n",
       "      <td>CD1</td>\n",
       "      <td>CD1</td>\n",
       "    </tr>\n",
       "  </tbody>\n",
       "</table>\n",
       "<p>384 rows × 23 columns</p>\n",
       "</div>"
      ],
      "text/plain": [
       "   total_match_number subject_id agent_id original_elo_rating  \\\n",
       "0                   1        1.1      1.2                1000   \n",
       "1                   1        1.2      1.1                1000   \n",
       "2                   2        1.2      1.3               990.0   \n",
       "3                   2        1.3      1.2                1000   \n",
       "4                   3        1.4      1.3                1000   \n",
       "..                ...        ...      ...                 ...   \n",
       "91                 46        4.4      4.1               844.6   \n",
       "92                 47        4.2      4.4              1152.6   \n",
       "93                 47        4.4      4.2               838.2   \n",
       "94                 48        4.3      4.1              1025.9   \n",
       "95                 48        4.1      4.3               983.3   \n",
       "\n",
       "   updated_elo_rating win_draw_loss subject_ranking agent_ranking  \\\n",
       "0              1010.0             1               1             2   \n",
       "1               990.0             0               2             1   \n",
       "2              1000.3             1               2             3   \n",
       "3               989.7             0               3             2   \n",
       "4              1009.7             1               2             4   \n",
       "..                ...           ...             ...           ...   \n",
       "91              838.2             0               4             3   \n",
       "92             1155.4             1               1             4   \n",
       "93              835.4             0               4             1   \n",
       "94             1034.7             1               2             3   \n",
       "95              974.5             0               3             2   \n",
       "\n",
       "   pairing_index   runner  ... loser notes   cage session_number_difference  \\\n",
       "0              0  Jocelyn  ...   1.2   NaN  CAGE1                       1.0   \n",
       "1              1  Jocelyn  ...   1.2   NaN  CAGE1                       1.0   \n",
       "2              0  Jocelyn  ...   1.3   NaN  CAGE1                       0.0   \n",
       "3              1  Jocelyn  ...   1.3   NaN  CAGE1                       0.0   \n",
       "4              0  Jocelyn  ...   1.3   NaN  CAGE1                       0.0   \n",
       "..           ...      ...  ...   ...   ...    ...                       ...   \n",
       "91             1  Jocelyn  ...   4.4   NaN  CAGE4                       0.0   \n",
       "92             0  Jocelyn  ...   4.4   NaN  CAGE4                       0.0   \n",
       "93             1  Jocelyn  ...   4.4   NaN  CAGE4                       0.0   \n",
       "94             0  Jocelyn  ...   4.1   NaN  CAGE4                       0.0   \n",
       "95             1  Jocelyn  ...   4.1   NaN  CAGE4                       0.0   \n",
       "\n",
       "   winner_cage loser_cage subject_cage agent_cage subject_strain agent_strain  \n",
       "0        CAGE3      CAGE1        CAGE3      CAGE1            C57          C57  \n",
       "1        CAGE3      CAGE1        CAGE1      CAGE3            C57          C57  \n",
       "2        CAGE1      CAGE1        CAGE1      CAGE1            C57          C57  \n",
       "3        CAGE1      CAGE1        CAGE1      CAGE1            C57          C57  \n",
       "4        CAGE1      CAGE1        CAGE1      CAGE1            C57          C57  \n",
       "..         ...        ...          ...        ...            ...          ...  \n",
       "91       CAGE4      CAGE4        CAGE4      CAGE4            CD1          CD1  \n",
       "92       CAGE2      CAGE4        CAGE2      CAGE4            CD1          CD1  \n",
       "93       CAGE2      CAGE4        CAGE4      CAGE2            CD1          CD1  \n",
       "94       CAGE4      CAGE4        CAGE4      CAGE4            CD1          CD1  \n",
       "95       CAGE4      CAGE4        CAGE4      CAGE4            CD1          CD1  \n",
       "\n",
       "[384 rows x 23 columns]"
      ]
     },
     "execution_count": 5,
     "metadata": {},
     "output_type": "execute_result"
    }
   ],
   "source": [
    "all_sheet_elo_score_df"
   ]
  },
  {
   "cell_type": "code",
   "execution_count": 14,
   "id": "c608a1c4-2c0d-44f1-a988-992cb322b90a",
   "metadata": {
    "execution": {
     "iopub.execute_input": "2023-05-02T09:02:57.537032Z",
     "iopub.status.busy": "2023-05-02T09:02:57.537032Z",
     "iopub.status.idle": "2023-05-02T09:02:57.554043Z",
     "shell.execute_reply": "2023-05-02T09:02:57.553042Z",
     "shell.execute_reply.started": "2023-05-02T09:02:57.537032Z"
    },
    "tags": []
   },
   "outputs": [
    {
     "data": {
      "text/html": [
       "<div>\n",
       "<style scoped>\n",
       "    .dataframe tbody tr th:only-of-type {\n",
       "        vertical-align: middle;\n",
       "    }\n",
       "\n",
       "    .dataframe tbody tr th {\n",
       "        vertical-align: top;\n",
       "    }\n",
       "\n",
       "    .dataframe thead th {\n",
       "        text-align: right;\n",
       "    }\n",
       "</style>\n",
       "<table border=\"1\" class=\"dataframe\">\n",
       "  <thead>\n",
       "    <tr style=\"text-align: right;\">\n",
       "      <th></th>\n",
       "      <th>subject_id</th>\n",
       "      <th>subject_cage</th>\n",
       "      <th>updated_elo_rating</th>\n",
       "      <th>rank</th>\n",
       "    </tr>\n",
       "  </thead>\n",
       "  <tbody>\n",
       "    <tr>\n",
       "      <th>0</th>\n",
       "      <td>1.2</td>\n",
       "      <td>CAGE1</td>\n",
       "      <td>1054.5</td>\n",
       "      <td>1.0</td>\n",
       "    </tr>\n",
       "    <tr>\n",
       "      <th>1</th>\n",
       "      <td>1.4</td>\n",
       "      <td>CAGE1</td>\n",
       "      <td>897.9</td>\n",
       "      <td>2.0</td>\n",
       "    </tr>\n",
       "    <tr>\n",
       "      <th>2</th>\n",
       "      <td>1.1</td>\n",
       "      <td>CAGE3</td>\n",
       "      <td>1165.3</td>\n",
       "      <td>1.0</td>\n",
       "    </tr>\n",
       "    <tr>\n",
       "      <th>3</th>\n",
       "      <td>1.3</td>\n",
       "      <td>CAGE1</td>\n",
       "      <td>882.3</td>\n",
       "      <td>3.0</td>\n",
       "    </tr>\n",
       "    <tr>\n",
       "      <th>4</th>\n",
       "      <td>2.2</td>\n",
       "      <td>CAGE2</td>\n",
       "      <td>965.6</td>\n",
       "      <td>4.0</td>\n",
       "    </tr>\n",
       "    <tr>\n",
       "      <th>5</th>\n",
       "      <td>2.4</td>\n",
       "      <td>CAGE2</td>\n",
       "      <td>833.7</td>\n",
       "      <td>5.0</td>\n",
       "    </tr>\n",
       "    <tr>\n",
       "      <th>6</th>\n",
       "      <td>2.3</td>\n",
       "      <td>CAGE2</td>\n",
       "      <td>1072.9</td>\n",
       "      <td>3.0</td>\n",
       "    </tr>\n",
       "    <tr>\n",
       "      <th>7</th>\n",
       "      <td>2.1</td>\n",
       "      <td>CAGE2</td>\n",
       "      <td>1127.8</td>\n",
       "      <td>2.0</td>\n",
       "    </tr>\n",
       "    <tr>\n",
       "      <th>8</th>\n",
       "      <td>3.4</td>\n",
       "      <td>CAGE3</td>\n",
       "      <td>1147.4</td>\n",
       "      <td>2.0</td>\n",
       "    </tr>\n",
       "    <tr>\n",
       "      <th>9</th>\n",
       "      <td>3.2</td>\n",
       "      <td>CAGE3</td>\n",
       "      <td>1024.4</td>\n",
       "      <td>3.0</td>\n",
       "    </tr>\n",
       "    <tr>\n",
       "      <th>10</th>\n",
       "      <td>3.3</td>\n",
       "      <td>CAGE3</td>\n",
       "      <td>980.4</td>\n",
       "      <td>4.0</td>\n",
       "    </tr>\n",
       "    <tr>\n",
       "      <th>11</th>\n",
       "      <td>3.1</td>\n",
       "      <td>CAGE3</td>\n",
       "      <td>847.8</td>\n",
       "      <td>5.0</td>\n",
       "    </tr>\n",
       "    <tr>\n",
       "      <th>12</th>\n",
       "      <td>4.2</td>\n",
       "      <td>CAGE2</td>\n",
       "      <td>1155.4</td>\n",
       "      <td>1.0</td>\n",
       "    </tr>\n",
       "    <tr>\n",
       "      <th>13</th>\n",
       "      <td>4.4</td>\n",
       "      <td>CAGE4</td>\n",
       "      <td>835.4</td>\n",
       "      <td>3.0</td>\n",
       "    </tr>\n",
       "    <tr>\n",
       "      <th>14</th>\n",
       "      <td>4.3</td>\n",
       "      <td>CAGE4</td>\n",
       "      <td>1034.7</td>\n",
       "      <td>1.0</td>\n",
       "    </tr>\n",
       "    <tr>\n",
       "      <th>15</th>\n",
       "      <td>4.1</td>\n",
       "      <td>CAGE4</td>\n",
       "      <td>974.5</td>\n",
       "      <td>2.0</td>\n",
       "    </tr>\n",
       "  </tbody>\n",
       "</table>\n",
       "</div>"
      ],
      "text/plain": [
       "   subject_id subject_cage updated_elo_rating  rank\n",
       "0         1.2        CAGE1             1054.5   1.0\n",
       "1         1.4        CAGE1              897.9   2.0\n",
       "2         1.1        CAGE3             1165.3   1.0\n",
       "3         1.3        CAGE1              882.3   3.0\n",
       "4         2.2        CAGE2              965.6   4.0\n",
       "5         2.4        CAGE2              833.7   5.0\n",
       "6         2.3        CAGE2             1072.9   3.0\n",
       "7         2.1        CAGE2             1127.8   2.0\n",
       "8         3.4        CAGE3             1147.4   2.0\n",
       "9         3.2        CAGE3             1024.4   3.0\n",
       "10        3.3        CAGE3              980.4   4.0\n",
       "11        3.1        CAGE3              847.8   5.0\n",
       "12        4.2        CAGE2             1155.4   1.0\n",
       "13        4.4        CAGE4              835.4   3.0\n",
       "14        4.3        CAGE4             1034.7   1.0\n",
       "15        4.1        CAGE4              974.5   2.0"
      ]
     },
     "execution_count": 14,
     "metadata": {},
     "output_type": "execute_result"
    }
   ],
   "source": [
    "final_subject_elo_score_df"
   ]
  },
  {
   "cell_type": "markdown",
   "id": "d64ec1c6-54af-4f62-9859-3a45b27cba55",
   "metadata": {},
   "source": [
    "### Calculate aggregate dominance of individuals for the pairwise comparitive tests done\n",
    "The csv containing all pairwise aggregate comparisons is generated here."
   ]
  },
  {
   "cell_type": "code",
   "execution_count": 6,
   "id": "e3d1a72f-0a72-4e00-ab04-f4821270ae59",
   "metadata": {
    "execution": {
     "iopub.execute_input": "2023-05-02T08:38:51.784131Z",
     "iopub.status.busy": "2023-05-02T08:38:51.783129Z",
     "iopub.status.idle": "2023-05-02T08:38:51.829234Z",
     "shell.execute_reply": "2023-05-02T08:38:51.827235Z",
     "shell.execute_reply.started": "2023-05-02T08:38:51.784131Z"
    },
    "tags": []
   },
   "outputs": [],
   "source": [
    "# get all the possible pairwise groups\n",
    "grouped_df = pd.DataFrame(all_sheet_elo_score_df.groupby([\"subject_id\", \"agent_id\", 'loser', 'winner']).size()).reset_index()\n",
    "# get the loser counts and list of loser IDs\n",
    "df_loser = grouped_df.groupby([\"subject_id\", \"agent_id\"]).agg({0: 'min', 'loser': lambda x: x.unique()}).reset_index()\n",
    "df_loser = df_loser.rename(columns={0: 'loser_count'})\n",
    "# get only the top loser from loser list\n",
    "df_loser['loser'] = df_loser['loser'].apply(lambda x: x[0])\n",
    "# get the winner counts and list of winner IDs\n",
    "df_winner= grouped_df.groupby([\"subject_id\", \"agent_id\"]).agg({0: 'max', 'winner': lambda x: x.unique()}).reset_index()\n",
    "df_winner = df_winner.rename(columns={0: 'winner_count'})\n",
    "# get only the top winner from winner list\n",
    "df_winner['winner'] = df_winner['winner'].apply(lambda x: x[0])\n",
    "# merge the winner and loser dataframes\n",
    "df_winner_loser = pd.merge(df_loser, df_winner)\n",
    "# get the total number of experiments and merge this vlaue with winner loser datframe\n",
    "df_total = all_sheet_elo_score_df.groupby([\"subject_id\", \"agent_id\"]).size().reset_index()\n",
    "df_total = df_total.rename(columns={0: 'total_count'})\n",
    "df_pairwise_all = pd.merge(df_winner_loser, df_total)\n",
    "# turn losing ount to 0 if it is the same as the total count\n",
    "df_pairwise_all.loc[df_pairwise_all['loser_count'] == df_pairwise_all['total_count'], 'loser_count'] = 0\n",
    "# add a draw column when losing count equals winning count\n",
    "df_pairwise_all[\"draw\"] = False\n",
    "df_pairwise_all.loc[df_pairwise_all['loser_count'] == df_pairwise_all['winner_count'], 'draw'] = True\n",
    "# remove duplicates in experiments\n",
    "df_pairwise_all = df_pairwise_all.drop_duplicates(df_pairwise_all.columns.difference(['subject_id', 'agent_id'])).reset_index(drop=True)"
   ]
  },
  {
   "cell_type": "code",
   "execution_count": 13,
   "id": "203e1bb1-a81d-43c7-94a9-7a587fa6bf4a",
   "metadata": {
    "execution": {
     "iopub.execute_input": "2023-05-02T09:02:39.643379Z",
     "iopub.status.busy": "2023-05-02T09:02:39.643379Z",
     "iopub.status.idle": "2023-05-02T09:02:39.669933Z",
     "shell.execute_reply": "2023-05-02T09:02:39.668927Z",
     "shell.execute_reply.started": "2023-05-02T09:02:39.643379Z"
    },
    "tags": []
   },
   "outputs": [
    {
     "data": {
      "text/html": [
       "<div>\n",
       "<style scoped>\n",
       "    .dataframe tbody tr th:only-of-type {\n",
       "        vertical-align: middle;\n",
       "    }\n",
       "\n",
       "    .dataframe tbody tr th {\n",
       "        vertical-align: top;\n",
       "    }\n",
       "\n",
       "    .dataframe thead th {\n",
       "        text-align: right;\n",
       "    }\n",
       "</style>\n",
       "<table border=\"1\" class=\"dataframe\">\n",
       "  <thead>\n",
       "    <tr style=\"text-align: right;\">\n",
       "      <th></th>\n",
       "      <th>subject_id</th>\n",
       "      <th>agent_id</th>\n",
       "      <th>loser_count</th>\n",
       "      <th>loser</th>\n",
       "      <th>winner_count</th>\n",
       "      <th>winner</th>\n",
       "      <th>total_count</th>\n",
       "      <th>draw</th>\n",
       "    </tr>\n",
       "  </thead>\n",
       "  <tbody>\n",
       "    <tr>\n",
       "      <th>0</th>\n",
       "      <td>1.1</td>\n",
       "      <td>1.2</td>\n",
       "      <td>0</td>\n",
       "      <td>1.2</td>\n",
       "      <td>8</td>\n",
       "      <td>1.1</td>\n",
       "      <td>8</td>\n",
       "      <td>False</td>\n",
       "    </tr>\n",
       "    <tr>\n",
       "      <th>1</th>\n",
       "      <td>1.1</td>\n",
       "      <td>1.3</td>\n",
       "      <td>0</td>\n",
       "      <td>1.3</td>\n",
       "      <td>8</td>\n",
       "      <td>1.1</td>\n",
       "      <td>8</td>\n",
       "      <td>False</td>\n",
       "    </tr>\n",
       "    <tr>\n",
       "      <th>2</th>\n",
       "      <td>1.1</td>\n",
       "      <td>1.4</td>\n",
       "      <td>0</td>\n",
       "      <td>1.4</td>\n",
       "      <td>8</td>\n",
       "      <td>1.1</td>\n",
       "      <td>8</td>\n",
       "      <td>False</td>\n",
       "    </tr>\n",
       "    <tr>\n",
       "      <th>3</th>\n",
       "      <td>1.2</td>\n",
       "      <td>1.3</td>\n",
       "      <td>0</td>\n",
       "      <td>1.3</td>\n",
       "      <td>8</td>\n",
       "      <td>1.2</td>\n",
       "      <td>8</td>\n",
       "      <td>False</td>\n",
       "    </tr>\n",
       "    <tr>\n",
       "      <th>4</th>\n",
       "      <td>1.2</td>\n",
       "      <td>1.4</td>\n",
       "      <td>0</td>\n",
       "      <td>1.4</td>\n",
       "      <td>8</td>\n",
       "      <td>1.2</td>\n",
       "      <td>8</td>\n",
       "      <td>False</td>\n",
       "    </tr>\n",
       "    <tr>\n",
       "      <th>5</th>\n",
       "      <td>1.3</td>\n",
       "      <td>1.4</td>\n",
       "      <td>3</td>\n",
       "      <td>1.3</td>\n",
       "      <td>5</td>\n",
       "      <td>1.4</td>\n",
       "      <td>8</td>\n",
       "      <td>False</td>\n",
       "    </tr>\n",
       "    <tr>\n",
       "      <th>6</th>\n",
       "      <td>2.1</td>\n",
       "      <td>2.2</td>\n",
       "      <td>1</td>\n",
       "      <td>2.1</td>\n",
       "      <td>7</td>\n",
       "      <td>2.2</td>\n",
       "      <td>8</td>\n",
       "      <td>False</td>\n",
       "    </tr>\n",
       "    <tr>\n",
       "      <th>7</th>\n",
       "      <td>2.1</td>\n",
       "      <td>2.3</td>\n",
       "      <td>1</td>\n",
       "      <td>2.1</td>\n",
       "      <td>7</td>\n",
       "      <td>2.3</td>\n",
       "      <td>8</td>\n",
       "      <td>False</td>\n",
       "    </tr>\n",
       "    <tr>\n",
       "      <th>8</th>\n",
       "      <td>2.1</td>\n",
       "      <td>2.4</td>\n",
       "      <td>0</td>\n",
       "      <td>2.4</td>\n",
       "      <td>8</td>\n",
       "      <td>2.1</td>\n",
       "      <td>8</td>\n",
       "      <td>False</td>\n",
       "    </tr>\n",
       "    <tr>\n",
       "      <th>9</th>\n",
       "      <td>2.2</td>\n",
       "      <td>2.3</td>\n",
       "      <td>0</td>\n",
       "      <td>2.2</td>\n",
       "      <td>8</td>\n",
       "      <td>2.3</td>\n",
       "      <td>8</td>\n",
       "      <td>False</td>\n",
       "    </tr>\n",
       "    <tr>\n",
       "      <th>10</th>\n",
       "      <td>2.2</td>\n",
       "      <td>2.4</td>\n",
       "      <td>0</td>\n",
       "      <td>2.4</td>\n",
       "      <td>8</td>\n",
       "      <td>2.2</td>\n",
       "      <td>8</td>\n",
       "      <td>False</td>\n",
       "    </tr>\n",
       "    <tr>\n",
       "      <th>11</th>\n",
       "      <td>2.3</td>\n",
       "      <td>2.4</td>\n",
       "      <td>0</td>\n",
       "      <td>2.4</td>\n",
       "      <td>8</td>\n",
       "      <td>2.3</td>\n",
       "      <td>8</td>\n",
       "      <td>False</td>\n",
       "    </tr>\n",
       "    <tr>\n",
       "      <th>12</th>\n",
       "      <td>3.1</td>\n",
       "      <td>3.2</td>\n",
       "      <td>0</td>\n",
       "      <td>3.1</td>\n",
       "      <td>8</td>\n",
       "      <td>3.2</td>\n",
       "      <td>8</td>\n",
       "      <td>False</td>\n",
       "    </tr>\n",
       "    <tr>\n",
       "      <th>13</th>\n",
       "      <td>3.1</td>\n",
       "      <td>3.3</td>\n",
       "      <td>1</td>\n",
       "      <td>3.1</td>\n",
       "      <td>7</td>\n",
       "      <td>3.3</td>\n",
       "      <td>8</td>\n",
       "      <td>False</td>\n",
       "    </tr>\n",
       "    <tr>\n",
       "      <th>14</th>\n",
       "      <td>3.1</td>\n",
       "      <td>3.4</td>\n",
       "      <td>0</td>\n",
       "      <td>3.1</td>\n",
       "      <td>8</td>\n",
       "      <td>3.4</td>\n",
       "      <td>8</td>\n",
       "      <td>False</td>\n",
       "    </tr>\n",
       "    <tr>\n",
       "      <th>15</th>\n",
       "      <td>3.2</td>\n",
       "      <td>3.3</td>\n",
       "      <td>3</td>\n",
       "      <td>3.2</td>\n",
       "      <td>5</td>\n",
       "      <td>3.3</td>\n",
       "      <td>8</td>\n",
       "      <td>False</td>\n",
       "    </tr>\n",
       "    <tr>\n",
       "      <th>16</th>\n",
       "      <td>3.2</td>\n",
       "      <td>3.4</td>\n",
       "      <td>1</td>\n",
       "      <td>3.2</td>\n",
       "      <td>7</td>\n",
       "      <td>3.4</td>\n",
       "      <td>8</td>\n",
       "      <td>False</td>\n",
       "    </tr>\n",
       "    <tr>\n",
       "      <th>17</th>\n",
       "      <td>3.3</td>\n",
       "      <td>3.4</td>\n",
       "      <td>1</td>\n",
       "      <td>3.3</td>\n",
       "      <td>7</td>\n",
       "      <td>3.4</td>\n",
       "      <td>8</td>\n",
       "      <td>False</td>\n",
       "    </tr>\n",
       "    <tr>\n",
       "      <th>18</th>\n",
       "      <td>4.1</td>\n",
       "      <td>4.2</td>\n",
       "      <td>0</td>\n",
       "      <td>4.1</td>\n",
       "      <td>8</td>\n",
       "      <td>4.2</td>\n",
       "      <td>8</td>\n",
       "      <td>False</td>\n",
       "    </tr>\n",
       "    <tr>\n",
       "      <th>19</th>\n",
       "      <td>4.1</td>\n",
       "      <td>4.3</td>\n",
       "      <td>2</td>\n",
       "      <td>4.1</td>\n",
       "      <td>6</td>\n",
       "      <td>4.3</td>\n",
       "      <td>8</td>\n",
       "      <td>False</td>\n",
       "    </tr>\n",
       "    <tr>\n",
       "      <th>20</th>\n",
       "      <td>4.1</td>\n",
       "      <td>4.4</td>\n",
       "      <td>0</td>\n",
       "      <td>4.4</td>\n",
       "      <td>8</td>\n",
       "      <td>4.1</td>\n",
       "      <td>8</td>\n",
       "      <td>False</td>\n",
       "    </tr>\n",
       "    <tr>\n",
       "      <th>21</th>\n",
       "      <td>4.2</td>\n",
       "      <td>4.3</td>\n",
       "      <td>1</td>\n",
       "      <td>4.2</td>\n",
       "      <td>7</td>\n",
       "      <td>4.3</td>\n",
       "      <td>8</td>\n",
       "      <td>False</td>\n",
       "    </tr>\n",
       "    <tr>\n",
       "      <th>22</th>\n",
       "      <td>4.2</td>\n",
       "      <td>4.4</td>\n",
       "      <td>0</td>\n",
       "      <td>4.4</td>\n",
       "      <td>8</td>\n",
       "      <td>4.2</td>\n",
       "      <td>8</td>\n",
       "      <td>False</td>\n",
       "    </tr>\n",
       "    <tr>\n",
       "      <th>23</th>\n",
       "      <td>4.3</td>\n",
       "      <td>4.4</td>\n",
       "      <td>0</td>\n",
       "      <td>4.4</td>\n",
       "      <td>8</td>\n",
       "      <td>4.3</td>\n",
       "      <td>8</td>\n",
       "      <td>False</td>\n",
       "    </tr>\n",
       "  </tbody>\n",
       "</table>\n",
       "</div>"
      ],
      "text/plain": [
       "   subject_id agent_id  loser_count loser  winner_count winner  total_count  \\\n",
       "0         1.1      1.2            0   1.2             8    1.1            8   \n",
       "1         1.1      1.3            0   1.3             8    1.1            8   \n",
       "2         1.1      1.4            0   1.4             8    1.1            8   \n",
       "3         1.2      1.3            0   1.3             8    1.2            8   \n",
       "4         1.2      1.4            0   1.4             8    1.2            8   \n",
       "5         1.3      1.4            3   1.3             5    1.4            8   \n",
       "6         2.1      2.2            1   2.1             7    2.2            8   \n",
       "7         2.1      2.3            1   2.1             7    2.3            8   \n",
       "8         2.1      2.4            0   2.4             8    2.1            8   \n",
       "9         2.2      2.3            0   2.2             8    2.3            8   \n",
       "10        2.2      2.4            0   2.4             8    2.2            8   \n",
       "11        2.3      2.4            0   2.4             8    2.3            8   \n",
       "12        3.1      3.2            0   3.1             8    3.2            8   \n",
       "13        3.1      3.3            1   3.1             7    3.3            8   \n",
       "14        3.1      3.4            0   3.1             8    3.4            8   \n",
       "15        3.2      3.3            3   3.2             5    3.3            8   \n",
       "16        3.2      3.4            1   3.2             7    3.4            8   \n",
       "17        3.3      3.4            1   3.3             7    3.4            8   \n",
       "18        4.1      4.2            0   4.1             8    4.2            8   \n",
       "19        4.1      4.3            2   4.1             6    4.3            8   \n",
       "20        4.1      4.4            0   4.4             8    4.1            8   \n",
       "21        4.2      4.3            1   4.2             7    4.3            8   \n",
       "22        4.2      4.4            0   4.4             8    4.2            8   \n",
       "23        4.3      4.4            0   4.4             8    4.3            8   \n",
       "\n",
       "     draw  \n",
       "0   False  \n",
       "1   False  \n",
       "2   False  \n",
       "3   False  \n",
       "4   False  \n",
       "5   False  \n",
       "6   False  \n",
       "7   False  \n",
       "8   False  \n",
       "9   False  \n",
       "10  False  \n",
       "11  False  \n",
       "12  False  \n",
       "13  False  \n",
       "14  False  \n",
       "15  False  \n",
       "16  False  \n",
       "17  False  \n",
       "18  False  \n",
       "19  False  \n",
       "20  False  \n",
       "21  False  \n",
       "22  False  \n",
       "23  False  "
      ]
     },
     "execution_count": 13,
     "metadata": {},
     "output_type": "execute_result"
    }
   ],
   "source": [
    "df_pairwise_all"
   ]
  },
  {
   "cell_type": "markdown",
   "id": "10956079-6cf0-4f9e-82af-2bbda528a77c",
   "metadata": {},
   "source": [
    "# Save created tables to CSV files"
   ]
  },
  {
   "cell_type": "code",
   "execution_count": 9,
   "id": "da77d235-5e80-47a1-8be8-5626dfce1374",
   "metadata": {
    "execution": {
     "iopub.execute_input": "2023-05-02T08:38:54.108157Z",
     "iopub.status.busy": "2023-05-02T08:38:54.108157Z",
     "iopub.status.idle": "2023-05-02T08:38:54.138724Z",
     "shell.execute_reply": "2023-05-02T08:38:54.137713Z",
     "shell.execute_reply.started": "2023-05-02T08:38:54.108157Z"
    },
    "tags": []
   },
   "outputs": [],
   "source": [
    "# Save CSVs\n",
    "all_sheet_elo_score_df.to_csv(os.path.join(output_dir, f\"{all_sheet_scores_name}.csv\"))\n",
    "final_subject_elo_score_df.to_csv(os.path.join(output_dir, f\"{final_elo_score_name}.csv\"))\n",
    "df_pairwise_all.to_csv(os.path.join(output_dir, f\"{aggregate_all_pairwise_name}.csv\"))"
   ]
  },
  {
   "cell_type": "markdown",
   "id": "418eee2f-e097-4485-8b46-dafe9aeb3eb0",
   "metadata": {},
   "source": [
    "# Visualization\n",
    "### ELO plots for each sheet"
   ]
  },
  {
   "cell_type": "code",
   "execution_count": 8,
   "id": "a642d9a4-aa83-49c5-837f-80bac4c85b06",
   "metadata": {
    "execution": {
     "iopub.execute_input": "2023-05-02T08:38:51.845232Z",
     "iopub.status.busy": "2023-05-02T08:38:51.845232Z",
     "iopub.status.idle": "2023-05-02T08:38:54.107157Z",
     "shell.execute_reply": "2023-05-02T08:38:54.106146Z",
     "shell.execute_reply.started": "2023-05-02T08:38:51.845232Z"
    },
    "tags": []
   },
   "outputs": [
    {
     "data": {
      "application/vnd.plotly.v1+json": {
       "config": {
        "plotlyServerURL": "https://plot.ly",
        "toImageButtonOptions": {
         "filename": "custom_image",
         "format": "png",
         "height": 600,
         "scale": 10,
         "width": 800
        }
       },
       "data": [
        {
         "mode": "lines+markers",
         "name": "1.1",
         "type": "scatter",
         "x": [
          1,
          4,
          6,
          8,
          10,
          12,
          14,
          16,
          18,
          20,
          22,
          23,
          25,
          28,
          29,
          31,
          35,
          36,
          38,
          40,
          42,
          44,
          46,
          48
         ],
         "y": [
          1010,
          1019.1,
          1028.5,
          1037.4,
          1045.3,
          1054.8,
          1063.8,
          1071.7,
          1077.8,
          1084.9,
          1093.4,
          1098.9,
          1104.2,
          1109.8,
          1118,
          1125.8,
          1130.2,
          1134.9,
          1139.4,
          1143.3,
          1150.9,
          1158.1,
          1161.9,
          1165.3
         ]
        },
        {
         "mode": "lines+markers",
         "name": "1.2",
         "type": "scatter",
         "x": [
          1,
          2,
          5,
          7,
          9,
          12,
          14,
          15,
          17,
          19,
          22,
          24,
          26,
          27,
          29,
          31,
          32,
          34,
          37,
          39,
          42,
          44,
          45,
          47
         ],
         "y": [
          990,
          1000.3,
          1010.6,
          1019.5,
          1028.4,
          1018.9,
          1009.9,
          1017.8,
          1026.8,
          1033.9,
          1025.4,
          1033.4,
          1040.1,
          1047.5,
          1039.3,
          1031.5,
          1037.9,
          1044.9,
          1051,
          1057.3,
          1049.7,
          1042.5,
          1048.4,
          1054.5
         ]
        },
        {
         "mode": "lines+markers",
         "name": "1.3",
         "type": "scatter",
         "x": [
          2,
          3,
          4,
          7,
          10,
          11,
          13,
          15,
          18,
          19,
          21,
          23,
          25,
          26,
          30,
          32,
          33,
          35,
          37,
          40,
          41,
          43,
          45,
          48
         ],
         "y": [
          989.7,
          980,
          970.9,
          962,
          954.1,
          944.6,
          935.7,
          927.8,
          921.7,
          914.6,
          926.1,
          920.6,
          915.3,
          908.6,
          899.3,
          892.9,
          904.3,
          899.9,
          893.8,
          889.9,
          880.5,
          891.6,
          885.7,
          882.3
         ]
        },
        {
         "mode": "lines+markers",
         "name": "1.4",
         "type": "scatter",
         "x": [
          3,
          5,
          6,
          8,
          9,
          11,
          13,
          16,
          17,
          20,
          21,
          24,
          27,
          28,
          30,
          33,
          34,
          36,
          38,
          39,
          41,
          43,
          46,
          47
         ],
         "y": [
          1009.7,
          999.4,
          990,
          981.1,
          972.2,
          981.7,
          990.6,
          982.7,
          973.7,
          966.6,
          955.1,
          947.1,
          939.7,
          934.1,
          943.4,
          932,
          925,
          920.3,
          915.8,
          909.5,
          918.9,
          907.8,
          904,
          897.9
         ]
        }
       ],
       "layout": {
        "autosize": true,
        "legend": {
         "title": {
          "text": "Subject ID"
         }
        },
        "shapes": [
         {
          "line": {
           "color": "black",
           "dash": "dash",
           "width": 2
          },
          "type": "line",
          "x0": 1,
          "x1": 1,
          "y0": 783.7,
          "y1": 1215.3
         },
         {
          "line": {
           "color": "black",
           "dash": "dash",
           "width": 2
          },
          "type": "line",
          "x0": 7,
          "x1": 7,
          "y0": 783.7,
          "y1": 1215.3
         },
         {
          "line": {
           "color": "black",
           "dash": "dash",
           "width": 2
          },
          "type": "line",
          "x0": 13,
          "x1": 13,
          "y0": 783.7,
          "y1": 1215.3
         },
         {
          "line": {
           "color": "black",
           "dash": "dash",
           "width": 2
          },
          "type": "line",
          "x0": 19,
          "x1": 19,
          "y0": 783.7,
          "y1": 1215.3
         },
         {
          "line": {
           "color": "black",
           "dash": "dash",
           "width": 2
          },
          "type": "line",
          "x0": 25,
          "x1": 25,
          "y0": 783.7,
          "y1": 1215.3
         },
         {
          "line": {
           "color": "black",
           "dash": "dash",
           "width": 2
          },
          "type": "line",
          "x0": 31,
          "x1": 31,
          "y0": 783.7,
          "y1": 1215.3
         },
         {
          "line": {
           "color": "black",
           "dash": "dash",
           "width": 2
          },
          "type": "line",
          "x0": 37,
          "x1": 37,
          "y0": 783.7,
          "y1": 1215.3
         },
         {
          "line": {
           "color": "black",
           "dash": "dash",
           "width": 2
          },
          "type": "line",
          "x0": 43,
          "x1": 43,
          "y0": 783.7,
          "y1": 1215.3
         }
        ],
        "template": {
         "data": {
          "bar": [
           {
            "error_x": {
             "color": "#2a3f5f"
            },
            "error_y": {
             "color": "#2a3f5f"
            },
            "marker": {
             "line": {
              "color": "#E5ECF6",
              "width": 0.5
             },
             "pattern": {
              "fillmode": "overlay",
              "size": 10,
              "solidity": 0.2
             }
            },
            "type": "bar"
           }
          ],
          "barpolar": [
           {
            "marker": {
             "line": {
              "color": "#E5ECF6",
              "width": 0.5
             },
             "pattern": {
              "fillmode": "overlay",
              "size": 10,
              "solidity": 0.2
             }
            },
            "type": "barpolar"
           }
          ],
          "carpet": [
           {
            "aaxis": {
             "endlinecolor": "#2a3f5f",
             "gridcolor": "white",
             "linecolor": "white",
             "minorgridcolor": "white",
             "startlinecolor": "#2a3f5f"
            },
            "baxis": {
             "endlinecolor": "#2a3f5f",
             "gridcolor": "white",
             "linecolor": "white",
             "minorgridcolor": "white",
             "startlinecolor": "#2a3f5f"
            },
            "type": "carpet"
           }
          ],
          "choropleth": [
           {
            "colorbar": {
             "outlinewidth": 0,
             "ticks": ""
            },
            "type": "choropleth"
           }
          ],
          "contour": [
           {
            "colorbar": {
             "outlinewidth": 0,
             "ticks": ""
            },
            "colorscale": [
             [
              0,
              "#0d0887"
             ],
             [
              0.1111111111111111,
              "#46039f"
             ],
             [
              0.2222222222222222,
              "#7201a8"
             ],
             [
              0.3333333333333333,
              "#9c179e"
             ],
             [
              0.4444444444444444,
              "#bd3786"
             ],
             [
              0.5555555555555556,
              "#d8576b"
             ],
             [
              0.6666666666666666,
              "#ed7953"
             ],
             [
              0.7777777777777778,
              "#fb9f3a"
             ],
             [
              0.8888888888888888,
              "#fdca26"
             ],
             [
              1,
              "#f0f921"
             ]
            ],
            "type": "contour"
           }
          ],
          "contourcarpet": [
           {
            "colorbar": {
             "outlinewidth": 0,
             "ticks": ""
            },
            "type": "contourcarpet"
           }
          ],
          "heatmap": [
           {
            "colorbar": {
             "outlinewidth": 0,
             "ticks": ""
            },
            "colorscale": [
             [
              0,
              "#0d0887"
             ],
             [
              0.1111111111111111,
              "#46039f"
             ],
             [
              0.2222222222222222,
              "#7201a8"
             ],
             [
              0.3333333333333333,
              "#9c179e"
             ],
             [
              0.4444444444444444,
              "#bd3786"
             ],
             [
              0.5555555555555556,
              "#d8576b"
             ],
             [
              0.6666666666666666,
              "#ed7953"
             ],
             [
              0.7777777777777778,
              "#fb9f3a"
             ],
             [
              0.8888888888888888,
              "#fdca26"
             ],
             [
              1,
              "#f0f921"
             ]
            ],
            "type": "heatmap"
           }
          ],
          "heatmapgl": [
           {
            "colorbar": {
             "outlinewidth": 0,
             "ticks": ""
            },
            "colorscale": [
             [
              0,
              "#0d0887"
             ],
             [
              0.1111111111111111,
              "#46039f"
             ],
             [
              0.2222222222222222,
              "#7201a8"
             ],
             [
              0.3333333333333333,
              "#9c179e"
             ],
             [
              0.4444444444444444,
              "#bd3786"
             ],
             [
              0.5555555555555556,
              "#d8576b"
             ],
             [
              0.6666666666666666,
              "#ed7953"
             ],
             [
              0.7777777777777778,
              "#fb9f3a"
             ],
             [
              0.8888888888888888,
              "#fdca26"
             ],
             [
              1,
              "#f0f921"
             ]
            ],
            "type": "heatmapgl"
           }
          ],
          "histogram": [
           {
            "marker": {
             "pattern": {
              "fillmode": "overlay",
              "size": 10,
              "solidity": 0.2
             }
            },
            "type": "histogram"
           }
          ],
          "histogram2d": [
           {
            "colorbar": {
             "outlinewidth": 0,
             "ticks": ""
            },
            "colorscale": [
             [
              0,
              "#0d0887"
             ],
             [
              0.1111111111111111,
              "#46039f"
             ],
             [
              0.2222222222222222,
              "#7201a8"
             ],
             [
              0.3333333333333333,
              "#9c179e"
             ],
             [
              0.4444444444444444,
              "#bd3786"
             ],
             [
              0.5555555555555556,
              "#d8576b"
             ],
             [
              0.6666666666666666,
              "#ed7953"
             ],
             [
              0.7777777777777778,
              "#fb9f3a"
             ],
             [
              0.8888888888888888,
              "#fdca26"
             ],
             [
              1,
              "#f0f921"
             ]
            ],
            "type": "histogram2d"
           }
          ],
          "histogram2dcontour": [
           {
            "colorbar": {
             "outlinewidth": 0,
             "ticks": ""
            },
            "colorscale": [
             [
              0,
              "#0d0887"
             ],
             [
              0.1111111111111111,
              "#46039f"
             ],
             [
              0.2222222222222222,
              "#7201a8"
             ],
             [
              0.3333333333333333,
              "#9c179e"
             ],
             [
              0.4444444444444444,
              "#bd3786"
             ],
             [
              0.5555555555555556,
              "#d8576b"
             ],
             [
              0.6666666666666666,
              "#ed7953"
             ],
             [
              0.7777777777777778,
              "#fb9f3a"
             ],
             [
              0.8888888888888888,
              "#fdca26"
             ],
             [
              1,
              "#f0f921"
             ]
            ],
            "type": "histogram2dcontour"
           }
          ],
          "mesh3d": [
           {
            "colorbar": {
             "outlinewidth": 0,
             "ticks": ""
            },
            "type": "mesh3d"
           }
          ],
          "parcoords": [
           {
            "line": {
             "colorbar": {
              "outlinewidth": 0,
              "ticks": ""
             }
            },
            "type": "parcoords"
           }
          ],
          "pie": [
           {
            "automargin": true,
            "type": "pie"
           }
          ],
          "scatter": [
           {
            "fillpattern": {
             "fillmode": "overlay",
             "size": 10,
             "solidity": 0.2
            },
            "type": "scatter"
           }
          ],
          "scatter3d": [
           {
            "line": {
             "colorbar": {
              "outlinewidth": 0,
              "ticks": ""
             }
            },
            "marker": {
             "colorbar": {
              "outlinewidth": 0,
              "ticks": ""
             }
            },
            "type": "scatter3d"
           }
          ],
          "scattercarpet": [
           {
            "marker": {
             "colorbar": {
              "outlinewidth": 0,
              "ticks": ""
             }
            },
            "type": "scattercarpet"
           }
          ],
          "scattergeo": [
           {
            "marker": {
             "colorbar": {
              "outlinewidth": 0,
              "ticks": ""
             }
            },
            "type": "scattergeo"
           }
          ],
          "scattergl": [
           {
            "marker": {
             "colorbar": {
              "outlinewidth": 0,
              "ticks": ""
             }
            },
            "type": "scattergl"
           }
          ],
          "scattermapbox": [
           {
            "marker": {
             "colorbar": {
              "outlinewidth": 0,
              "ticks": ""
             }
            },
            "type": "scattermapbox"
           }
          ],
          "scatterpolar": [
           {
            "marker": {
             "colorbar": {
              "outlinewidth": 0,
              "ticks": ""
             }
            },
            "type": "scatterpolar"
           }
          ],
          "scatterpolargl": [
           {
            "marker": {
             "colorbar": {
              "outlinewidth": 0,
              "ticks": ""
             }
            },
            "type": "scatterpolargl"
           }
          ],
          "scatterternary": [
           {
            "marker": {
             "colorbar": {
              "outlinewidth": 0,
              "ticks": ""
             }
            },
            "type": "scatterternary"
           }
          ],
          "surface": [
           {
            "colorbar": {
             "outlinewidth": 0,
             "ticks": ""
            },
            "colorscale": [
             [
              0,
              "#0d0887"
             ],
             [
              0.1111111111111111,
              "#46039f"
             ],
             [
              0.2222222222222222,
              "#7201a8"
             ],
             [
              0.3333333333333333,
              "#9c179e"
             ],
             [
              0.4444444444444444,
              "#bd3786"
             ],
             [
              0.5555555555555556,
              "#d8576b"
             ],
             [
              0.6666666666666666,
              "#ed7953"
             ],
             [
              0.7777777777777778,
              "#fb9f3a"
             ],
             [
              0.8888888888888888,
              "#fdca26"
             ],
             [
              1,
              "#f0f921"
             ]
            ],
            "type": "surface"
           }
          ],
          "table": [
           {
            "cells": {
             "fill": {
              "color": "#EBF0F8"
             },
             "line": {
              "color": "white"
             }
            },
            "header": {
             "fill": {
              "color": "#C8D4E3"
             },
             "line": {
              "color": "white"
             }
            },
            "type": "table"
           }
          ]
         },
         "layout": {
          "annotationdefaults": {
           "arrowcolor": "#2a3f5f",
           "arrowhead": 0,
           "arrowwidth": 1
          },
          "autotypenumbers": "strict",
          "coloraxis": {
           "colorbar": {
            "outlinewidth": 0,
            "ticks": ""
           }
          },
          "colorscale": {
           "diverging": [
            [
             0,
             "#8e0152"
            ],
            [
             0.1,
             "#c51b7d"
            ],
            [
             0.2,
             "#de77ae"
            ],
            [
             0.3,
             "#f1b6da"
            ],
            [
             0.4,
             "#fde0ef"
            ],
            [
             0.5,
             "#f7f7f7"
            ],
            [
             0.6,
             "#e6f5d0"
            ],
            [
             0.7,
             "#b8e186"
            ],
            [
             0.8,
             "#7fbc41"
            ],
            [
             0.9,
             "#4d9221"
            ],
            [
             1,
             "#276419"
            ]
           ],
           "sequential": [
            [
             0,
             "#0d0887"
            ],
            [
             0.1111111111111111,
             "#46039f"
            ],
            [
             0.2222222222222222,
             "#7201a8"
            ],
            [
             0.3333333333333333,
             "#9c179e"
            ],
            [
             0.4444444444444444,
             "#bd3786"
            ],
            [
             0.5555555555555556,
             "#d8576b"
            ],
            [
             0.6666666666666666,
             "#ed7953"
            ],
            [
             0.7777777777777778,
             "#fb9f3a"
            ],
            [
             0.8888888888888888,
             "#fdca26"
            ],
            [
             1,
             "#f0f921"
            ]
           ],
           "sequentialminus": [
            [
             0,
             "#0d0887"
            ],
            [
             0.1111111111111111,
             "#46039f"
            ],
            [
             0.2222222222222222,
             "#7201a8"
            ],
            [
             0.3333333333333333,
             "#9c179e"
            ],
            [
             0.4444444444444444,
             "#bd3786"
            ],
            [
             0.5555555555555556,
             "#d8576b"
            ],
            [
             0.6666666666666666,
             "#ed7953"
            ],
            [
             0.7777777777777778,
             "#fb9f3a"
            ],
            [
             0.8888888888888888,
             "#fdca26"
            ],
            [
             1,
             "#f0f921"
            ]
           ]
          },
          "colorway": [
           "#636efa",
           "#EF553B",
           "#00cc96",
           "#ab63fa",
           "#FFA15A",
           "#19d3f3",
           "#FF6692",
           "#B6E880",
           "#FF97FF",
           "#FECB52"
          ],
          "font": {
           "color": "#2a3f5f"
          },
          "geo": {
           "bgcolor": "white",
           "lakecolor": "white",
           "landcolor": "#E5ECF6",
           "showlakes": true,
           "showland": true,
           "subunitcolor": "white"
          },
          "hoverlabel": {
           "align": "left"
          },
          "hovermode": "closest",
          "mapbox": {
           "style": "light"
          },
          "paper_bgcolor": "white",
          "plot_bgcolor": "#E5ECF6",
          "polar": {
           "angularaxis": {
            "gridcolor": "white",
            "linecolor": "white",
            "ticks": ""
           },
           "bgcolor": "#E5ECF6",
           "radialaxis": {
            "gridcolor": "white",
            "linecolor": "white",
            "ticks": ""
           }
          },
          "scene": {
           "xaxis": {
            "backgroundcolor": "#E5ECF6",
            "gridcolor": "white",
            "gridwidth": 2,
            "linecolor": "white",
            "showbackground": true,
            "ticks": "",
            "zerolinecolor": "white"
           },
           "yaxis": {
            "backgroundcolor": "#E5ECF6",
            "gridcolor": "white",
            "gridwidth": 2,
            "linecolor": "white",
            "showbackground": true,
            "ticks": "",
            "zerolinecolor": "white"
           },
           "zaxis": {
            "backgroundcolor": "#E5ECF6",
            "gridcolor": "white",
            "gridwidth": 2,
            "linecolor": "white",
            "showbackground": true,
            "ticks": "",
            "zerolinecolor": "white"
           }
          },
          "shapedefaults": {
           "line": {
            "color": "#2a3f5f"
           }
          },
          "ternary": {
           "aaxis": {
            "gridcolor": "white",
            "linecolor": "white",
            "ticks": ""
           },
           "baxis": {
            "gridcolor": "white",
            "linecolor": "white",
            "ticks": ""
           },
           "bgcolor": "#E5ECF6",
           "caxis": {
            "gridcolor": "white",
            "linecolor": "white",
            "ticks": ""
           }
          },
          "title": {
           "x": 0.05
          },
          "xaxis": {
           "automargin": true,
           "gridcolor": "white",
           "linecolor": "white",
           "ticks": "",
           "title": {
            "standoff": 15
           },
           "zerolinecolor": "white",
           "zerolinewidth": 2
          },
          "yaxis": {
           "automargin": true,
           "gridcolor": "white",
           "linecolor": "white",
           "ticks": "",
           "title": {
            "standoff": 15
           },
           "zerolinecolor": "white",
           "zerolinewidth": 2
          }
         }
        },
        "title": {
         "text": "ELO Score for CAGE1"
        },
        "xaxis": {
         "autorange": false,
         "range": [
          -1,
          50
         ],
         "showspikes": false,
         "title": {
          "text": "Trial Number"
         },
         "type": "linear"
        },
        "yaxis": {
         "autorange": true,
         "range": [
          782.6674641148326,
          1216.3325358851673
         ],
         "showspikes": false,
         "title": {
          "text": "ELO Score"
         },
         "type": "linear"
        }
       }
      },
      "image/png": "[encoded data removed]"
     },
     "metadata": {},
     "output_type": "display_data"
    },
    {
     "data": {
      "application/vnd.plotly.v1+json": {
       "config": {
        "plotlyServerURL": "https://plot.ly",
        "responsive": true,
        "toImageButtonOptions": {
         "filename": "custom_image",
         "format": "png",
         "height": 600,
         "scale": 10,
         "width": 800
        }
       },
       "data": [
        {
         "mode": "lines+markers",
         "name": "2.1",
         "type": "scatter",
         "x": [
          1,
          5,
          6,
          8,
          10,
          12,
          14,
          16,
          18,
          20,
          22,
          23,
          25,
          28,
          30,
          31,
          35,
          36,
          38,
          40,
          42,
          44,
          46,
          48
         ],
         "y": [
          1010,
          1020.3,
          1029.1,
          1037.4,
          1046.9,
          1055.3,
          1063.2,
          1069.7,
          1078.7,
          1084.5,
          1091.2,
          1099.7,
          1104.5,
          1112.7,
          1118.8,
          1124.6,
          1132.5,
          1136.1,
          1139.6,
          1147.1,
          1152.1,
          1136.9,
          1140,
          1127.8
         ]
        },
        {
         "mode": "lines+markers",
         "name": "2.2",
         "type": "scatter",
         "x": [
          1,
          2,
          4,
          7,
          9,
          12,
          14,
          15,
          17,
          19,
          22,
          24,
          26,
          27,
          30,
          31,
          32,
          34,
          37,
          39,
          42,
          44,
          45,
          47
         ],
         "y": [
          990,
          980.3,
          990.6,
          981.1,
          990.6,
          982.2,
          974.3,
          965.8,
          974.8,
          966.2,
          959.5,
          968.1,
          959.9,
          968.1,
          962,
          956.2,
          948.5,
          956.4,
          948.8,
          956.3,
          951.3,
          966.5,
          958.9,
          965.6
         ]
        },
        {
         "mode": "lines+markers",
         "name": "2.3",
         "type": "scatter",
         "x": [
          2,
          3,
          5,
          7,
          10,
          11,
          13,
          15,
          18,
          19,
          21,
          23,
          26,
          28,
          29,
          32,
          33,
          35,
          37,
          40,
          41,
          43,
          45,
          48
         ],
         "y": [
          1009.7,
          1019.4,
          1009.1,
          1018.6,
          1009.1,
          1017.5,
          1025.4,
          1033.9,
          1024.9,
          1033.5,
          1040.2,
          1031.7,
          1039.9,
          1031.7,
          1037.8,
          1045.5,
          1051.1,
          1043.2,
          1050.8,
          1043.3,
          1048.3,
          1053.1,
          1060.7,
          1072.9
         ]
        },
        {
         "mode": "lines+markers",
         "name": "2.4",
         "type": "scatter",
         "x": [
          3,
          4,
          6,
          8,
          9,
          11,
          13,
          16,
          17,
          20,
          21,
          24,
          25,
          27,
          29,
          33,
          34,
          36,
          38,
          39,
          41,
          43,
          46,
          47
         ],
         "y": [
          990.3,
          980,
          971.2,
          962.9,
          953.4,
          945,
          937.1,
          930.6,
          921.6,
          915.8,
          909.1,
          900.5,
          895.7,
          887.5,
          881.4,
          875.8,
          867.9,
          864.3,
          860.8,
          853.3,
          848.3,
          843.5,
          840.4,
          833.7
         ]
        }
       ],
       "layout": {
        "autosize": true,
        "legend": {
         "title": {
          "text": "Subject ID"
         }
        },
        "shapes": [
         {
          "line": {
           "color": "black",
           "dash": "dash",
           "width": 2
          },
          "type": "line",
          "x0": 1,
          "x1": 1,
          "y0": 783.7,
          "y1": 1215.3
         },
         {
          "line": {
           "color": "black",
           "dash": "dash",
           "width": 2
          },
          "type": "line",
          "x0": 7,
          "x1": 7,
          "y0": 783.7,
          "y1": 1215.3
         },
         {
          "line": {
           "color": "black",
           "dash": "dash",
           "width": 2
          },
          "type": "line",
          "x0": 13,
          "x1": 13,
          "y0": 783.7,
          "y1": 1215.3
         },
         {
          "line": {
           "color": "black",
           "dash": "dash",
           "width": 2
          },
          "type": "line",
          "x0": 19,
          "x1": 19,
          "y0": 783.7,
          "y1": 1215.3
         },
         {
          "line": {
           "color": "black",
           "dash": "dash",
           "width": 2
          },
          "type": "line",
          "x0": 25,
          "x1": 25,
          "y0": 783.7,
          "y1": 1215.3
         },
         {
          "line": {
           "color": "black",
           "dash": "dash",
           "width": 2
          },
          "type": "line",
          "x0": 31,
          "x1": 31,
          "y0": 783.7,
          "y1": 1215.3
         },
         {
          "line": {
           "color": "black",
           "dash": "dash",
           "width": 2
          },
          "type": "line",
          "x0": 37,
          "x1": 37,
          "y0": 783.7,
          "y1": 1215.3
         },
         {
          "line": {
           "color": "black",
           "dash": "dash",
           "width": 2
          },
          "type": "line",
          "x0": 43,
          "x1": 43,
          "y0": 783.7,
          "y1": 1215.3
         }
        ],
        "template": {
         "data": {
          "bar": [
           {
            "error_x": {
             "color": "#2a3f5f"
            },
            "error_y": {
             "color": "#2a3f5f"
            },
            "marker": {
             "line": {
              "color": "#E5ECF6",
              "width": 0.5
             },
             "pattern": {
              "fillmode": "overlay",
              "size": 10,
              "solidity": 0.2
             }
            },
            "type": "bar"
           }
          ],
          "barpolar": [
           {
            "marker": {
             "line": {
              "color": "#E5ECF6",
              "width": 0.5
             },
             "pattern": {
              "fillmode": "overlay",
              "size": 10,
              "solidity": 0.2
             }
            },
            "type": "barpolar"
           }
          ],
          "carpet": [
           {
            "aaxis": {
             "endlinecolor": "#2a3f5f",
             "gridcolor": "white",
             "linecolor": "white",
             "minorgridcolor": "white",
             "startlinecolor": "#2a3f5f"
            },
            "baxis": {
             "endlinecolor": "#2a3f5f",
             "gridcolor": "white",
             "linecolor": "white",
             "minorgridcolor": "white",
             "startlinecolor": "#2a3f5f"
            },
            "type": "carpet"
           }
          ],
          "choropleth": [
           {
            "colorbar": {
             "outlinewidth": 0,
             "ticks": ""
            },
            "type": "choropleth"
           }
          ],
          "contour": [
           {
            "colorbar": {
             "outlinewidth": 0,
             "ticks": ""
            },
            "colorscale": [
             [
              0,
              "#0d0887"
             ],
             [
              0.1111111111111111,
              "#46039f"
             ],
             [
              0.2222222222222222,
              "#7201a8"
             ],
             [
              0.3333333333333333,
              "#9c179e"
             ],
             [
              0.4444444444444444,
              "#bd3786"
             ],
             [
              0.5555555555555556,
              "#d8576b"
             ],
             [
              0.6666666666666666,
              "#ed7953"
             ],
             [
              0.7777777777777778,
              "#fb9f3a"
             ],
             [
              0.8888888888888888,
              "#fdca26"
             ],
             [
              1,
              "#f0f921"
             ]
            ],
            "type": "contour"
           }
          ],
          "contourcarpet": [
           {
            "colorbar": {
             "outlinewidth": 0,
             "ticks": ""
            },
            "type": "contourcarpet"
           }
          ],
          "heatmap": [
           {
            "colorbar": {
             "outlinewidth": 0,
             "ticks": ""
            },
            "colorscale": [
             [
              0,
              "#0d0887"
             ],
             [
              0.1111111111111111,
              "#46039f"
             ],
             [
              0.2222222222222222,
              "#7201a8"
             ],
             [
              0.3333333333333333,
              "#9c179e"
             ],
             [
              0.4444444444444444,
              "#bd3786"
             ],
             [
              0.5555555555555556,
              "#d8576b"
             ],
             [
              0.6666666666666666,
              "#ed7953"
             ],
             [
              0.7777777777777778,
              "#fb9f3a"
             ],
             [
              0.8888888888888888,
              "#fdca26"
             ],
             [
              1,
              "#f0f921"
             ]
            ],
            "type": "heatmap"
           }
          ],
          "heatmapgl": [
           {
            "colorbar": {
             "outlinewidth": 0,
             "ticks": ""
            },
            "colorscale": [
             [
              0,
              "#0d0887"
             ],
             [
              0.1111111111111111,
              "#46039f"
             ],
             [
              0.2222222222222222,
              "#7201a8"
             ],
             [
              0.3333333333333333,
              "#9c179e"
             ],
             [
              0.4444444444444444,
              "#bd3786"
             ],
             [
              0.5555555555555556,
              "#d8576b"
             ],
             [
              0.6666666666666666,
              "#ed7953"
             ],
             [
              0.7777777777777778,
              "#fb9f3a"
             ],
             [
              0.8888888888888888,
              "#fdca26"
             ],
             [
              1,
              "#f0f921"
             ]
            ],
            "type": "heatmapgl"
           }
          ],
          "histogram": [
           {
            "marker": {
             "pattern": {
              "fillmode": "overlay",
              "size": 10,
              "solidity": 0.2
             }
            },
            "type": "histogram"
           }
          ],
          "histogram2d": [
           {
            "colorbar": {
             "outlinewidth": 0,
             "ticks": ""
            },
            "colorscale": [
             [
              0,
              "#0d0887"
             ],
             [
              0.1111111111111111,
              "#46039f"
             ],
             [
              0.2222222222222222,
              "#7201a8"
             ],
             [
              0.3333333333333333,
              "#9c179e"
             ],
             [
              0.4444444444444444,
              "#bd3786"
             ],
             [
              0.5555555555555556,
              "#d8576b"
             ],
             [
              0.6666666666666666,
              "#ed7953"
             ],
             [
              0.7777777777777778,
              "#fb9f3a"
             ],
             [
              0.8888888888888888,
              "#fdca26"
             ],
             [
              1,
              "#f0f921"
             ]
            ],
            "type": "histogram2d"
           }
          ],
          "histogram2dcontour": [
           {
            "colorbar": {
             "outlinewidth": 0,
             "ticks": ""
            },
            "colorscale": [
             [
              0,
              "#0d0887"
             ],
             [
              0.1111111111111111,
              "#46039f"
             ],
             [
              0.2222222222222222,
              "#7201a8"
             ],
             [
              0.3333333333333333,
              "#9c179e"
             ],
             [
              0.4444444444444444,
              "#bd3786"
             ],
             [
              0.5555555555555556,
              "#d8576b"
             ],
             [
              0.6666666666666666,
              "#ed7953"
             ],
             [
              0.7777777777777778,
              "#fb9f3a"
             ],
             [
              0.8888888888888888,
              "#fdca26"
             ],
             [
              1,
              "#f0f921"
             ]
            ],
            "type": "histogram2dcontour"
           }
          ],
          "mesh3d": [
           {
            "colorbar": {
             "outlinewidth": 0,
             "ticks": ""
            },
            "type": "mesh3d"
           }
          ],
          "parcoords": [
           {
            "line": {
             "colorbar": {
              "outlinewidth": 0,
              "ticks": ""
             }
            },
            "type": "parcoords"
           }
          ],
          "pie": [
           {
            "automargin": true,
            "type": "pie"
           }
          ],
          "scatter": [
           {
            "fillpattern": {
             "fillmode": "overlay",
             "size": 10,
             "solidity": 0.2
            },
            "type": "scatter"
           }
          ],
          "scatter3d": [
           {
            "line": {
             "colorbar": {
              "outlinewidth": 0,
              "ticks": ""
             }
            },
            "marker": {
             "colorbar": {
              "outlinewidth": 0,
              "ticks": ""
             }
            },
            "type": "scatter3d"
           }
          ],
          "scattercarpet": [
           {
            "marker": {
             "colorbar": {
              "outlinewidth": 0,
              "ticks": ""
             }
            },
            "type": "scattercarpet"
           }
          ],
          "scattergeo": [
           {
            "marker": {
             "colorbar": {
              "outlinewidth": 0,
              "ticks": ""
             }
            },
            "type": "scattergeo"
           }
          ],
          "scattergl": [
           {
            "marker": {
             "colorbar": {
              "outlinewidth": 0,
              "ticks": ""
             }
            },
            "type": "scattergl"
           }
          ],
          "scattermapbox": [
           {
            "marker": {
             "colorbar": {
              "outlinewidth": 0,
              "ticks": ""
             }
            },
            "type": "scattermapbox"
           }
          ],
          "scatterpolar": [
           {
            "marker": {
             "colorbar": {
              "outlinewidth": 0,
              "ticks": ""
             }
            },
            "type": "scatterpolar"
           }
          ],
          "scatterpolargl": [
           {
            "marker": {
             "colorbar": {
              "outlinewidth": 0,
              "ticks": ""
             }
            },
            "type": "scatterpolargl"
           }
          ],
          "scatterternary": [
           {
            "marker": {
             "colorbar": {
              "outlinewidth": 0,
              "ticks": ""
             }
            },
            "type": "scatterternary"
           }
          ],
          "surface": [
           {
            "colorbar": {
             "outlinewidth": 0,
             "ticks": ""
            },
            "colorscale": [
             [
              0,
              "#0d0887"
             ],
             [
              0.1111111111111111,
              "#46039f"
             ],
             [
              0.2222222222222222,
              "#7201a8"
             ],
             [
              0.3333333333333333,
              "#9c179e"
             ],
             [
              0.4444444444444444,
              "#bd3786"
             ],
             [
              0.5555555555555556,
              "#d8576b"
             ],
             [
              0.6666666666666666,
              "#ed7953"
             ],
             [
              0.7777777777777778,
              "#fb9f3a"
             ],
             [
              0.8888888888888888,
              "#fdca26"
             ],
             [
              1,
              "#f0f921"
             ]
            ],
            "type": "surface"
           }
          ],
          "table": [
           {
            "cells": {
             "fill": {
              "color": "#EBF0F8"
             },
             "line": {
              "color": "white"
             }
            },
            "header": {
             "fill": {
              "color": "#C8D4E3"
             },
             "line": {
              "color": "white"
             }
            },
            "type": "table"
           }
          ]
         },
         "layout": {
          "annotationdefaults": {
           "arrowcolor": "#2a3f5f",
           "arrowhead": 0,
           "arrowwidth": 1
          },
          "autotypenumbers": "strict",
          "coloraxis": {
           "colorbar": {
            "outlinewidth": 0,
            "ticks": ""
           }
          },
          "colorscale": {
           "diverging": [
            [
             0,
             "#8e0152"
            ],
            [
             0.1,
             "#c51b7d"
            ],
            [
             0.2,
             "#de77ae"
            ],
            [
             0.3,
             "#f1b6da"
            ],
            [
             0.4,
             "#fde0ef"
            ],
            [
             0.5,
             "#f7f7f7"
            ],
            [
             0.6,
             "#e6f5d0"
            ],
            [
             0.7,
             "#b8e186"
            ],
            [
             0.8,
             "#7fbc41"
            ],
            [
             0.9,
             "#4d9221"
            ],
            [
             1,
             "#276419"
            ]
           ],
           "sequential": [
            [
             0,
             "#0d0887"
            ],
            [
             0.1111111111111111,
             "#46039f"
            ],
            [
             0.2222222222222222,
             "#7201a8"
            ],
            [
             0.3333333333333333,
             "#9c179e"
            ],
            [
             0.4444444444444444,
             "#bd3786"
            ],
            [
             0.5555555555555556,
             "#d8576b"
            ],
            [
             0.6666666666666666,
             "#ed7953"
            ],
            [
             0.7777777777777778,
             "#fb9f3a"
            ],
            [
             0.8888888888888888,
             "#fdca26"
            ],
            [
             1,
             "#f0f921"
            ]
           ],
           "sequentialminus": [
            [
             0,
             "#0d0887"
            ],
            [
             0.1111111111111111,
             "#46039f"
            ],
            [
             0.2222222222222222,
             "#7201a8"
            ],
            [
             0.3333333333333333,
             "#9c179e"
            ],
            [
             0.4444444444444444,
             "#bd3786"
            ],
            [
             0.5555555555555556,
             "#d8576b"
            ],
            [
             0.6666666666666666,
             "#ed7953"
            ],
            [
             0.7777777777777778,
             "#fb9f3a"
            ],
            [
             0.8888888888888888,
             "#fdca26"
            ],
            [
             1,
             "#f0f921"
            ]
           ]
          },
          "colorway": [
           "#636efa",
           "#EF553B",
           "#00cc96",
           "#ab63fa",
           "#FFA15A",
           "#19d3f3",
           "#FF6692",
           "#B6E880",
           "#FF97FF",
           "#FECB52"
          ],
          "font": {
           "color": "#2a3f5f"
          },
          "geo": {
           "bgcolor": "white",
           "lakecolor": "white",
           "landcolor": "#E5ECF6",
           "showlakes": true,
           "showland": true,
           "subunitcolor": "white"
          },
          "hoverlabel": {
           "align": "left"
          },
          "hovermode": "closest",
          "mapbox": {
           "style": "light"
          },
          "paper_bgcolor": "white",
          "plot_bgcolor": "#E5ECF6",
          "polar": {
           "angularaxis": {
            "gridcolor": "white",
            "linecolor": "white",
            "ticks": ""
           },
           "bgcolor": "#E5ECF6",
           "radialaxis": {
            "gridcolor": "white",
            "linecolor": "white",
            "ticks": ""
           }
          },
          "scene": {
           "xaxis": {
            "backgroundcolor": "#E5ECF6",
            "gridcolor": "white",
            "gridwidth": 2,
            "linecolor": "white",
            "showbackground": true,
            "ticks": "",
            "zerolinecolor": "white"
           },
           "yaxis": {
            "backgroundcolor": "#E5ECF6",
            "gridcolor": "white",
            "gridwidth": 2,
            "linecolor": "white",
            "showbackground": true,
            "ticks": "",
            "zerolinecolor": "white"
           },
           "zaxis": {
            "backgroundcolor": "#E5ECF6",
            "gridcolor": "white",
            "gridwidth": 2,
            "linecolor": "white",
            "showbackground": true,
            "ticks": "",
            "zerolinecolor": "white"
           }
          },
          "shapedefaults": {
           "line": {
            "color": "#2a3f5f"
           }
          },
          "ternary": {
           "aaxis": {
            "gridcolor": "white",
            "linecolor": "white",
            "ticks": ""
           },
           "baxis": {
            "gridcolor": "white",
            "linecolor": "white",
            "ticks": ""
           },
           "bgcolor": "#E5ECF6",
           "caxis": {
            "gridcolor": "white",
            "linecolor": "white",
            "ticks": ""
           }
          },
          "title": {
           "x": 0.05
          },
          "xaxis": {
           "automargin": true,
           "gridcolor": "white",
           "linecolor": "white",
           "ticks": "",
           "title": {
            "standoff": 15
           },
           "zerolinecolor": "white",
           "zerolinewidth": 2
          },
          "yaxis": {
           "automargin": true,
           "gridcolor": "white",
           "linecolor": "white",
           "ticks": "",
           "title": {
            "standoff": 15
           },
           "zerolinecolor": "white",
           "zerolinewidth": 2
          }
         }
        },
        "title": {
         "text": "ELO Score for CAGE2"
        },
        "xaxis": {
         "range": [
          -1,
          50
         ],
         "title": {
          "text": "Trial Number"
         },
         "type": "linear"
        },
        "yaxis": {
         "autorange": true,
         "range": [
          781.2752808988764,
          1217.7247191011236
         ],
         "title": {
          "text": "ELO Score"
         },
         "type": "linear"
        }
       }
      },
      "image/png": "[encoded data removed]"
     },
     "metadata": {},
     "output_type": "display_data"
    },
    {
     "data": {
      "application/vnd.plotly.v1+json": {
       "config": {
        "plotlyServerURL": "https://plot.ly",
        "responsive": true,
        "toImageButtonOptions": {
         "filename": "custom_image",
         "format": "png",
         "height": 600,
         "scale": 10,
         "width": 800
        }
       },
       "data": [
        {
         "mode": "lines+markers",
         "name": "3.1",
         "type": "scatter",
         "x": [
          1,
          5,
          6,
          8,
          10,
          12,
          14,
          16,
          18,
          20,
          22,
          23,
          25,
          28,
          30,
          31,
          35,
          36,
          38,
          40,
          42,
          44,
          46,
          48
         ],
         "y": [
          990,
          980.3,
          970.3,
          960.9,
          952.6,
          944.2,
          936.2,
          928.9,
          920.9,
          914.4,
          907.2,
          920,
          914.1,
          906.2,
          899.2,
          892.5,
          885.3,
          881,
          876.8,
          869.9,
          863.7,
          857.8,
          854.5,
          847.8
         ]
        },
        {
         "mode": "lines+markers",
         "name": "3.2",
         "type": "scatter",
         "x": [
          1,
          2,
          4,
          7,
          9,
          12,
          14,
          15,
          17,
          19,
          22,
          24,
          26,
          27,
          30,
          31,
          32,
          34,
          37,
          39,
          42,
          44,
          45,
          47
         ],
         "y": [
          1010,
          1019.7,
          1028.8,
          1018.3,
          1007.8,
          1016.2,
          1024.2,
          1033.8,
          1023.9,
          1013.4,
          1020.6,
          1011.8,
          1021.3,
          1012.9,
          1019.9,
          1026.6,
          1015.5,
          1007.9,
          1017.6,
          1010.4,
          1016.6,
          1022.5,
          1031.4,
          1024.4
         ]
        },
        {
         "mode": "lines+markers",
         "name": "3.3",
         "type": "scatter",
         "x": [
          2,
          3,
          5,
          7,
          10,
          11,
          13,
          15,
          18,
          19,
          21,
          23,
          26,
          28,
          29,
          32,
          33,
          35,
          37,
          40,
          41,
          43,
          45,
          48
         ],
         "y": [
          990.3,
          1000.6,
          1010.3,
          1020.8,
          1029.1,
          1018.6,
          1008.7,
          999.1,
          1007.1,
          1017.6,
          1008.7,
          995.9,
          986.4,
          994.3,
          986.9,
          998,
          990.7,
          997.9,
          988.2,
          995.1,
          988.7,
          982.6,
          973.7,
          980.4
         ]
        },
        {
         "mode": "lines+markers",
         "name": "3.4",
         "type": "scatter",
         "x": [
          3,
          4,
          6,
          8,
          9,
          11,
          13,
          16,
          17,
          20,
          21,
          24,
          25,
          27,
          29,
          33,
          34,
          36,
          38,
          39,
          41,
          43,
          46,
          47
         ],
         "y": [
          989.7,
          980.6,
          990.6,
          1000,
          1010.5,
          1021,
          1030.9,
          1038.2,
          1048.1,
          1054.6,
          1063.5,
          1072.3,
          1078.2,
          1086.6,
          1094,
          1101.3,
          1108.9,
          1113.2,
          1117.4,
          1124.6,
          1131,
          1137.1,
          1140.4,
          1147.4
         ]
        }
       ],
       "layout": {
        "autosize": true,
        "legend": {
         "title": {
          "text": "Subject ID"
         }
        },
        "shapes": [
         {
          "line": {
           "color": "black",
           "dash": "dash",
           "width": 2
          },
          "type": "line",
          "x0": 1,
          "x1": 1,
          "y0": 783.7,
          "y1": 1215.3
         },
         {
          "line": {
           "color": "black",
           "dash": "dash",
           "width": 2
          },
          "type": "line",
          "x0": 7,
          "x1": 7,
          "y0": 783.7,
          "y1": 1215.3
         },
         {
          "line": {
           "color": "black",
           "dash": "dash",
           "width": 2
          },
          "type": "line",
          "x0": 13,
          "x1": 13,
          "y0": 783.7,
          "y1": 1215.3
         },
         {
          "line": {
           "color": "black",
           "dash": "dash",
           "width": 2
          },
          "type": "line",
          "x0": 19,
          "x1": 19,
          "y0": 783.7,
          "y1": 1215.3
         },
         {
          "line": {
           "color": "black",
           "dash": "dash",
           "width": 2
          },
          "type": "line",
          "x0": 25,
          "x1": 25,
          "y0": 783.7,
          "y1": 1215.3
         },
         {
          "line": {
           "color": "black",
           "dash": "dash",
           "width": 2
          },
          "type": "line",
          "x0": 31,
          "x1": 31,
          "y0": 783.7,
          "y1": 1215.3
         },
         {
          "line": {
           "color": "black",
           "dash": "dash",
           "width": 2
          },
          "type": "line",
          "x0": 37,
          "x1": 37,
          "y0": 783.7,
          "y1": 1215.3
         },
         {
          "line": {
           "color": "black",
           "dash": "dash",
           "width": 2
          },
          "type": "line",
          "x0": 43,
          "x1": 43,
          "y0": 783.7,
          "y1": 1215.3
         }
        ],
        "template": {
         "data": {
          "bar": [
           {
            "error_x": {
             "color": "#2a3f5f"
            },
            "error_y": {
             "color": "#2a3f5f"
            },
            "marker": {
             "line": {
              "color": "#E5ECF6",
              "width": 0.5
             },
             "pattern": {
              "fillmode": "overlay",
              "size": 10,
              "solidity": 0.2
             }
            },
            "type": "bar"
           }
          ],
          "barpolar": [
           {
            "marker": {
             "line": {
              "color": "#E5ECF6",
              "width": 0.5
             },
             "pattern": {
              "fillmode": "overlay",
              "size": 10,
              "solidity": 0.2
             }
            },
            "type": "barpolar"
           }
          ],
          "carpet": [
           {
            "aaxis": {
             "endlinecolor": "#2a3f5f",
             "gridcolor": "white",
             "linecolor": "white",
             "minorgridcolor": "white",
             "startlinecolor": "#2a3f5f"
            },
            "baxis": {
             "endlinecolor": "#2a3f5f",
             "gridcolor": "white",
             "linecolor": "white",
             "minorgridcolor": "white",
             "startlinecolor": "#2a3f5f"
            },
            "type": "carpet"
           }
          ],
          "choropleth": [
           {
            "colorbar": {
             "outlinewidth": 0,
             "ticks": ""
            },
            "type": "choropleth"
           }
          ],
          "contour": [
           {
            "colorbar": {
             "outlinewidth": 0,
             "ticks": ""
            },
            "colorscale": [
             [
              0,
              "#0d0887"
             ],
             [
              0.1111111111111111,
              "#46039f"
             ],
             [
              0.2222222222222222,
              "#7201a8"
             ],
             [
              0.3333333333333333,
              "#9c179e"
             ],
             [
              0.4444444444444444,
              "#bd3786"
             ],
             [
              0.5555555555555556,
              "#d8576b"
             ],
             [
              0.6666666666666666,
              "#ed7953"
             ],
             [
              0.7777777777777778,
              "#fb9f3a"
             ],
             [
              0.8888888888888888,
              "#fdca26"
             ],
             [
              1,
              "#f0f921"
             ]
            ],
            "type": "contour"
           }
          ],
          "contourcarpet": [
           {
            "colorbar": {
             "outlinewidth": 0,
             "ticks": ""
            },
            "type": "contourcarpet"
           }
          ],
          "heatmap": [
           {
            "colorbar": {
             "outlinewidth": 0,
             "ticks": ""
            },
            "colorscale": [
             [
              0,
              "#0d0887"
             ],
             [
              0.1111111111111111,
              "#46039f"
             ],
             [
              0.2222222222222222,
              "#7201a8"
             ],
             [
              0.3333333333333333,
              "#9c179e"
             ],
             [
              0.4444444444444444,
              "#bd3786"
             ],
             [
              0.5555555555555556,
              "#d8576b"
             ],
             [
              0.6666666666666666,
              "#ed7953"
             ],
             [
              0.7777777777777778,
              "#fb9f3a"
             ],
             [
              0.8888888888888888,
              "#fdca26"
             ],
             [
              1,
              "#f0f921"
             ]
            ],
            "type": "heatmap"
           }
          ],
          "heatmapgl": [
           {
            "colorbar": {
             "outlinewidth": 0,
             "ticks": ""
            },
            "colorscale": [
             [
              0,
              "#0d0887"
             ],
             [
              0.1111111111111111,
              "#46039f"
             ],
             [
              0.2222222222222222,
              "#7201a8"
             ],
             [
              0.3333333333333333,
              "#9c179e"
             ],
             [
              0.4444444444444444,
              "#bd3786"
             ],
             [
              0.5555555555555556,
              "#d8576b"
             ],
             [
              0.6666666666666666,
              "#ed7953"
             ],
             [
              0.7777777777777778,
              "#fb9f3a"
             ],
             [
              0.8888888888888888,
              "#fdca26"
             ],
             [
              1,
              "#f0f921"
             ]
            ],
            "type": "heatmapgl"
           }
          ],
          "histogram": [
           {
            "marker": {
             "pattern": {
              "fillmode": "overlay",
              "size": 10,
              "solidity": 0.2
             }
            },
            "type": "histogram"
           }
          ],
          "histogram2d": [
           {
            "colorbar": {
             "outlinewidth": 0,
             "ticks": ""
            },
            "colorscale": [
             [
              0,
              "#0d0887"
             ],
             [
              0.1111111111111111,
              "#46039f"
             ],
             [
              0.2222222222222222,
              "#7201a8"
             ],
             [
              0.3333333333333333,
              "#9c179e"
             ],
             [
              0.4444444444444444,
              "#bd3786"
             ],
             [
              0.5555555555555556,
              "#d8576b"
             ],
             [
              0.6666666666666666,
              "#ed7953"
             ],
             [
              0.7777777777777778,
              "#fb9f3a"
             ],
             [
              0.8888888888888888,
              "#fdca26"
             ],
             [
              1,
              "#f0f921"
             ]
            ],
            "type": "histogram2d"
           }
          ],
          "histogram2dcontour": [
           {
            "colorbar": {
             "outlinewidth": 0,
             "ticks": ""
            },
            "colorscale": [
             [
              0,
              "#0d0887"
             ],
             [
              0.1111111111111111,
              "#46039f"
             ],
             [
              0.2222222222222222,
              "#7201a8"
             ],
             [
              0.3333333333333333,
              "#9c179e"
             ],
             [
              0.4444444444444444,
              "#bd3786"
             ],
             [
              0.5555555555555556,
              "#d8576b"
             ],
             [
              0.6666666666666666,
              "#ed7953"
             ],
             [
              0.7777777777777778,
              "#fb9f3a"
             ],
             [
              0.8888888888888888,
              "#fdca26"
             ],
             [
              1,
              "#f0f921"
             ]
            ],
            "type": "histogram2dcontour"
           }
          ],
          "mesh3d": [
           {
            "colorbar": {
             "outlinewidth": 0,
             "ticks": ""
            },
            "type": "mesh3d"
           }
          ],
          "parcoords": [
           {
            "line": {
             "colorbar": {
              "outlinewidth": 0,
              "ticks": ""
             }
            },
            "type": "parcoords"
           }
          ],
          "pie": [
           {
            "automargin": true,
            "type": "pie"
           }
          ],
          "scatter": [
           {
            "fillpattern": {
             "fillmode": "overlay",
             "size": 10,
             "solidity": 0.2
            },
            "type": "scatter"
           }
          ],
          "scatter3d": [
           {
            "line": {
             "colorbar": {
              "outlinewidth": 0,
              "ticks": ""
             }
            },
            "marker": {
             "colorbar": {
              "outlinewidth": 0,
              "ticks": ""
             }
            },
            "type": "scatter3d"
           }
          ],
          "scattercarpet": [
           {
            "marker": {
             "colorbar": {
              "outlinewidth": 0,
              "ticks": ""
             }
            },
            "type": "scattercarpet"
           }
          ],
          "scattergeo": [
           {
            "marker": {
             "colorbar": {
              "outlinewidth": 0,
              "ticks": ""
             }
            },
            "type": "scattergeo"
           }
          ],
          "scattergl": [
           {
            "marker": {
             "colorbar": {
              "outlinewidth": 0,
              "ticks": ""
             }
            },
            "type": "scattergl"
           }
          ],
          "scattermapbox": [
           {
            "marker": {
             "colorbar": {
              "outlinewidth": 0,
              "ticks": ""
             }
            },
            "type": "scattermapbox"
           }
          ],
          "scatterpolar": [
           {
            "marker": {
             "colorbar": {
              "outlinewidth": 0,
              "ticks": ""
             }
            },
            "type": "scatterpolar"
           }
          ],
          "scatterpolargl": [
           {
            "marker": {
             "colorbar": {
              "outlinewidth": 0,
              "ticks": ""
             }
            },
            "type": "scatterpolargl"
           }
          ],
          "scatterternary": [
           {
            "marker": {
             "colorbar": {
              "outlinewidth": 0,
              "ticks": ""
             }
            },
            "type": "scatterternary"
           }
          ],
          "surface": [
           {
            "colorbar": {
             "outlinewidth": 0,
             "ticks": ""
            },
            "colorscale": [
             [
              0,
              "#0d0887"
             ],
             [
              0.1111111111111111,
              "#46039f"
             ],
             [
              0.2222222222222222,
              "#7201a8"
             ],
             [
              0.3333333333333333,
              "#9c179e"
             ],
             [
              0.4444444444444444,
              "#bd3786"
             ],
             [
              0.5555555555555556,
              "#d8576b"
             ],
             [
              0.6666666666666666,
              "#ed7953"
             ],
             [
              0.7777777777777778,
              "#fb9f3a"
             ],
             [
              0.8888888888888888,
              "#fdca26"
             ],
             [
              1,
              "#f0f921"
             ]
            ],
            "type": "surface"
           }
          ],
          "table": [
           {
            "cells": {
             "fill": {
              "color": "#EBF0F8"
             },
             "line": {
              "color": "white"
             }
            },
            "header": {
             "fill": {
              "color": "#C8D4E3"
             },
             "line": {
              "color": "white"
             }
            },
            "type": "table"
           }
          ]
         },
         "layout": {
          "annotationdefaults": {
           "arrowcolor": "#2a3f5f",
           "arrowhead": 0,
           "arrowwidth": 1
          },
          "autotypenumbers": "strict",
          "coloraxis": {
           "colorbar": {
            "outlinewidth": 0,
            "ticks": ""
           }
          },
          "colorscale": {
           "diverging": [
            [
             0,
             "#8e0152"
            ],
            [
             0.1,
             "#c51b7d"
            ],
            [
             0.2,
             "#de77ae"
            ],
            [
             0.3,
             "#f1b6da"
            ],
            [
             0.4,
             "#fde0ef"
            ],
            [
             0.5,
             "#f7f7f7"
            ],
            [
             0.6,
             "#e6f5d0"
            ],
            [
             0.7,
             "#b8e186"
            ],
            [
             0.8,
             "#7fbc41"
            ],
            [
             0.9,
             "#4d9221"
            ],
            [
             1,
             "#276419"
            ]
           ],
           "sequential": [
            [
             0,
             "#0d0887"
            ],
            [
             0.1111111111111111,
             "#46039f"
            ],
            [
             0.2222222222222222,
             "#7201a8"
            ],
            [
             0.3333333333333333,
             "#9c179e"
            ],
            [
             0.4444444444444444,
             "#bd3786"
            ],
            [
             0.5555555555555556,
             "#d8576b"
            ],
            [
             0.6666666666666666,
             "#ed7953"
            ],
            [
             0.7777777777777778,
             "#fb9f3a"
            ],
            [
             0.8888888888888888,
             "#fdca26"
            ],
            [
             1,
             "#f0f921"
            ]
           ],
           "sequentialminus": [
            [
             0,
             "#0d0887"
            ],
            [
             0.1111111111111111,
             "#46039f"
            ],
            [
             0.2222222222222222,
             "#7201a8"
            ],
            [
             0.3333333333333333,
             "#9c179e"
            ],
            [
             0.4444444444444444,
             "#bd3786"
            ],
            [
             0.5555555555555556,
             "#d8576b"
            ],
            [
             0.6666666666666666,
             "#ed7953"
            ],
            [
             0.7777777777777778,
             "#fb9f3a"
            ],
            [
             0.8888888888888888,
             "#fdca26"
            ],
            [
             1,
             "#f0f921"
            ]
           ]
          },
          "colorway": [
           "#636efa",
           "#EF553B",
           "#00cc96",
           "#ab63fa",
           "#FFA15A",
           "#19d3f3",
           "#FF6692",
           "#B6E880",
           "#FF97FF",
           "#FECB52"
          ],
          "font": {
           "color": "#2a3f5f"
          },
          "geo": {
           "bgcolor": "white",
           "lakecolor": "white",
           "landcolor": "#E5ECF6",
           "showlakes": true,
           "showland": true,
           "subunitcolor": "white"
          },
          "hoverlabel": {
           "align": "left"
          },
          "hovermode": "closest",
          "mapbox": {
           "style": "light"
          },
          "paper_bgcolor": "white",
          "plot_bgcolor": "#E5ECF6",
          "polar": {
           "angularaxis": {
            "gridcolor": "white",
            "linecolor": "white",
            "ticks": ""
           },
           "bgcolor": "#E5ECF6",
           "radialaxis": {
            "gridcolor": "white",
            "linecolor": "white",
            "ticks": ""
           }
          },
          "scene": {
           "xaxis": {
            "backgroundcolor": "#E5ECF6",
            "gridcolor": "white",
            "gridwidth": 2,
            "linecolor": "white",
            "showbackground": true,
            "ticks": "",
            "zerolinecolor": "white"
           },
           "yaxis": {
            "backgroundcolor": "#E5ECF6",
            "gridcolor": "white",
            "gridwidth": 2,
            "linecolor": "white",
            "showbackground": true,
            "ticks": "",
            "zerolinecolor": "white"
           },
           "zaxis": {
            "backgroundcolor": "#E5ECF6",
            "gridcolor": "white",
            "gridwidth": 2,
            "linecolor": "white",
            "showbackground": true,
            "ticks": "",
            "zerolinecolor": "white"
           }
          },
          "shapedefaults": {
           "line": {
            "color": "#2a3f5f"
           }
          },
          "ternary": {
           "aaxis": {
            "gridcolor": "white",
            "linecolor": "white",
            "ticks": ""
           },
           "baxis": {
            "gridcolor": "white",
            "linecolor": "white",
            "ticks": ""
           },
           "bgcolor": "#E5ECF6",
           "caxis": {
            "gridcolor": "white",
            "linecolor": "white",
            "ticks": ""
           }
          },
          "title": {
           "x": 0.05
          },
          "xaxis": {
           "automargin": true,
           "gridcolor": "white",
           "linecolor": "white",
           "ticks": "",
           "title": {
            "standoff": 15
           },
           "zerolinecolor": "white",
           "zerolinewidth": 2
          },
          "yaxis": {
           "automargin": true,
           "gridcolor": "white",
           "linecolor": "white",
           "ticks": "",
           "title": {
            "standoff": 15
           },
           "zerolinecolor": "white",
           "zerolinewidth": 2
          }
         }
        },
        "title": {
         "text": "ELO Score for CAGE3"
        },
        "xaxis": {
         "range": [
          -1,
          50
         ],
         "title": {
          "text": "Trial Number"
         },
         "type": "linear"
        },
        "yaxis": {
         "autorange": true,
         "range": [
          781.2752808988764,
          1217.7247191011236
         ],
         "title": {
          "text": "ELO Score"
         },
         "type": "linear"
        }
       }
      },
      "image/png": "[encoded data removed]"
     },
     "metadata": {},
     "output_type": "display_data"
    },
    {
     "data": {
      "application/vnd.plotly.v1+json": {
       "config": {
        "plotlyServerURL": "https://plot.ly",
        "responsive": true,
        "toImageButtonOptions": {
         "filename": "custom_image",
         "format": "png",
         "height": 600,
         "scale": 10,
         "width": 800
        }
       },
       "data": [
        {
         "mode": "lines+markers",
         "name": "4.1",
         "type": "scatter",
         "x": [
          1,
          5,
          6,
          8,
          10,
          12,
          14,
          16,
          18,
          20,
          22,
          23,
          25,
          28,
          30,
          31,
          35,
          36,
          38,
          40,
          42,
          44,
          46,
          48
         ],
         "y": [
          990,
          980.9,
          990.9,
          1000.3,
          990.8,
          981.9,
          973.5,
          982.5,
          974,
          982.5,
          975,
          966.8,
          974.9,
          986.7,
          979.8,
          973.3,
          985,
          991.9,
          998.4,
          988.8,
          982.7,
          976.9,
          983.3,
          974.5
         ]
        },
        {
         "mode": "lines+markers",
         "name": "4.2",
         "type": "scatter",
         "x": [
          1,
          2,
          4,
          7,
          9,
          12,
          14,
          15,
          17,
          19,
          22,
          24,
          26,
          27,
          30,
          31,
          32,
          34,
          37,
          39,
          42,
          44,
          45,
          47
         ],
         "y": [
          1010,
          999.7,
          1009.4,
          1020,
          1028.3,
          1037.2,
          1045.6,
          1055.5,
          1062,
          1071.4,
          1078.9,
          1084.3,
          1093.2,
          1098,
          1104.9,
          1111.4,
          1119.2,
          1123.2,
          1130.3,
          1133.8,
          1139.9,
          1145.7,
          1152.6,
          1155.4
         ]
        },
        {
         "mode": "lines+markers",
         "name": "4.3",
         "type": "scatter",
         "x": [
          2,
          3,
          5,
          7,
          10,
          11,
          13,
          15,
          18,
          19,
          21,
          23,
          26,
          28,
          29,
          32,
          33,
          35,
          37,
          40,
          41,
          43,
          45,
          48
         ],
         "y": [
          1010.3,
          1020,
          1029.1,
          1018.5,
          1028,
          1035.9,
          1043.3,
          1033.4,
          1041.9,
          1032.5,
          1039.2,
          1047.4,
          1038.5,
          1026.7,
          1032.9,
          1025.1,
          1031.2,
          1019.5,
          1012.4,
          1022,
          1027.5,
          1032.8,
          1025.9,
          1034.7
         ]
        },
        {
         "mode": "lines+markers",
         "name": "4.4",
         "type": "scatter",
         "x": [
          3,
          4,
          6,
          8,
          9,
          11,
          13,
          16,
          17,
          20,
          21,
          24,
          25,
          27,
          29,
          33,
          34,
          36,
          38,
          39,
          41,
          43,
          46,
          47
         ],
         "y": [
          990.3,
          980.6,
          970.6,
          961.2,
          952.9,
          945,
          937.6,
          928.6,
          922.1,
          913.6,
          906.9,
          901.5,
          893.4,
          888.6,
          882.4,
          876.3,
          872.3,
          865.4,
          858.9,
          855.4,
          849.9,
          844.6,
          838.2,
          835.4
         ]
        }
       ],
       "layout": {
        "autosize": true,
        "legend": {
         "title": {
          "text": "Subject ID"
         }
        },
        "shapes": [
         {
          "line": {
           "color": "black",
           "dash": "dash",
           "width": 2
          },
          "type": "line",
          "x0": 1,
          "x1": 1,
          "y0": 783.7,
          "y1": 1215.3
         },
         {
          "line": {
           "color": "black",
           "dash": "dash",
           "width": 2
          },
          "type": "line",
          "x0": 7,
          "x1": 7,
          "y0": 783.7,
          "y1": 1215.3
         },
         {
          "line": {
           "color": "black",
           "dash": "dash",
           "width": 2
          },
          "type": "line",
          "x0": 13,
          "x1": 13,
          "y0": 783.7,
          "y1": 1215.3
         },
         {
          "line": {
           "color": "black",
           "dash": "dash",
           "width": 2
          },
          "type": "line",
          "x0": 19,
          "x1": 19,
          "y0": 783.7,
          "y1": 1215.3
         },
         {
          "line": {
           "color": "black",
           "dash": "dash",
           "width": 2
          },
          "type": "line",
          "x0": 25,
          "x1": 25,
          "y0": 783.7,
          "y1": 1215.3
         },
         {
          "line": {
           "color": "black",
           "dash": "dash",
           "width": 2
          },
          "type": "line",
          "x0": 31,
          "x1": 31,
          "y0": 783.7,
          "y1": 1215.3
         },
         {
          "line": {
           "color": "black",
           "dash": "dash",
           "width": 2
          },
          "type": "line",
          "x0": 37,
          "x1": 37,
          "y0": 783.7,
          "y1": 1215.3
         },
         {
          "line": {
           "color": "black",
           "dash": "dash",
           "width": 2
          },
          "type": "line",
          "x0": 43,
          "x1": 43,
          "y0": 783.7,
          "y1": 1215.3
         }
        ],
        "template": {
         "data": {
          "bar": [
           {
            "error_x": {
             "color": "#2a3f5f"
            },
            "error_y": {
             "color": "#2a3f5f"
            },
            "marker": {
             "line": {
              "color": "#E5ECF6",
              "width": 0.5
             },
             "pattern": {
              "fillmode": "overlay",
              "size": 10,
              "solidity": 0.2
             }
            },
            "type": "bar"
           }
          ],
          "barpolar": [
           {
            "marker": {
             "line": {
              "color": "#E5ECF6",
              "width": 0.5
             },
             "pattern": {
              "fillmode": "overlay",
              "size": 10,
              "solidity": 0.2
             }
            },
            "type": "barpolar"
           }
          ],
          "carpet": [
           {
            "aaxis": {
             "endlinecolor": "#2a3f5f",
             "gridcolor": "white",
             "linecolor": "white",
             "minorgridcolor": "white",
             "startlinecolor": "#2a3f5f"
            },
            "baxis": {
             "endlinecolor": "#2a3f5f",
             "gridcolor": "white",
             "linecolor": "white",
             "minorgridcolor": "white",
             "startlinecolor": "#2a3f5f"
            },
            "type": "carpet"
           }
          ],
          "choropleth": [
           {
            "colorbar": {
             "outlinewidth": 0,
             "ticks": ""
            },
            "type": "choropleth"
           }
          ],
          "contour": [
           {
            "colorbar": {
             "outlinewidth": 0,
             "ticks": ""
            },
            "colorscale": [
             [
              0,
              "#0d0887"
             ],
             [
              0.1111111111111111,
              "#46039f"
             ],
             [
              0.2222222222222222,
              "#7201a8"
             ],
             [
              0.3333333333333333,
              "#9c179e"
             ],
             [
              0.4444444444444444,
              "#bd3786"
             ],
             [
              0.5555555555555556,
              "#d8576b"
             ],
             [
              0.6666666666666666,
              "#ed7953"
             ],
             [
              0.7777777777777778,
              "#fb9f3a"
             ],
             [
              0.8888888888888888,
              "#fdca26"
             ],
             [
              1,
              "#f0f921"
             ]
            ],
            "type": "contour"
           }
          ],
          "contourcarpet": [
           {
            "colorbar": {
             "outlinewidth": 0,
             "ticks": ""
            },
            "type": "contourcarpet"
           }
          ],
          "heatmap": [
           {
            "colorbar": {
             "outlinewidth": 0,
             "ticks": ""
            },
            "colorscale": [
             [
              0,
              "#0d0887"
             ],
             [
              0.1111111111111111,
              "#46039f"
             ],
             [
              0.2222222222222222,
              "#7201a8"
             ],
             [
              0.3333333333333333,
              "#9c179e"
             ],
             [
              0.4444444444444444,
              "#bd3786"
             ],
             [
              0.5555555555555556,
              "#d8576b"
             ],
             [
              0.6666666666666666,
              "#ed7953"
             ],
             [
              0.7777777777777778,
              "#fb9f3a"
             ],
             [
              0.8888888888888888,
              "#fdca26"
             ],
             [
              1,
              "#f0f921"
             ]
            ],
            "type": "heatmap"
           }
          ],
          "heatmapgl": [
           {
            "colorbar": {
             "outlinewidth": 0,
             "ticks": ""
            },
            "colorscale": [
             [
              0,
              "#0d0887"
             ],
             [
              0.1111111111111111,
              "#46039f"
             ],
             [
              0.2222222222222222,
              "#7201a8"
             ],
             [
              0.3333333333333333,
              "#9c179e"
             ],
             [
              0.4444444444444444,
              "#bd3786"
             ],
             [
              0.5555555555555556,
              "#d8576b"
             ],
             [
              0.6666666666666666,
              "#ed7953"
             ],
             [
              0.7777777777777778,
              "#fb9f3a"
             ],
             [
              0.8888888888888888,
              "#fdca26"
             ],
             [
              1,
              "#f0f921"
             ]
            ],
            "type": "heatmapgl"
           }
          ],
          "histogram": [
           {
            "marker": {
             "pattern": {
              "fillmode": "overlay",
              "size": 10,
              "solidity": 0.2
             }
            },
            "type": "histogram"
           }
          ],
          "histogram2d": [
           {
            "colorbar": {
             "outlinewidth": 0,
             "ticks": ""
            },
            "colorscale": [
             [
              0,
              "#0d0887"
             ],
             [
              0.1111111111111111,
              "#46039f"
             ],
             [
              0.2222222222222222,
              "#7201a8"
             ],
             [
              0.3333333333333333,
              "#9c179e"
             ],
             [
              0.4444444444444444,
              "#bd3786"
             ],
             [
              0.5555555555555556,
              "#d8576b"
             ],
             [
              0.6666666666666666,
              "#ed7953"
             ],
             [
              0.7777777777777778,
              "#fb9f3a"
             ],
             [
              0.8888888888888888,
              "#fdca26"
             ],
             [
              1,
              "#f0f921"
             ]
            ],
            "type": "histogram2d"
           }
          ],
          "histogram2dcontour": [
           {
            "colorbar": {
             "outlinewidth": 0,
             "ticks": ""
            },
            "colorscale": [
             [
              0,
              "#0d0887"
             ],
             [
              0.1111111111111111,
              "#46039f"
             ],
             [
              0.2222222222222222,
              "#7201a8"
             ],
             [
              0.3333333333333333,
              "#9c179e"
             ],
             [
              0.4444444444444444,
              "#bd3786"
             ],
             [
              0.5555555555555556,
              "#d8576b"
             ],
             [
              0.6666666666666666,
              "#ed7953"
             ],
             [
              0.7777777777777778,
              "#fb9f3a"
             ],
             [
              0.8888888888888888,
              "#fdca26"
             ],
             [
              1,
              "#f0f921"
             ]
            ],
            "type": "histogram2dcontour"
           }
          ],
          "mesh3d": [
           {
            "colorbar": {
             "outlinewidth": 0,
             "ticks": ""
            },
            "type": "mesh3d"
           }
          ],
          "parcoords": [
           {
            "line": {
             "colorbar": {
              "outlinewidth": 0,
              "ticks": ""
             }
            },
            "type": "parcoords"
           }
          ],
          "pie": [
           {
            "automargin": true,
            "type": "pie"
           }
          ],
          "scatter": [
           {
            "fillpattern": {
             "fillmode": "overlay",
             "size": 10,
             "solidity": 0.2
            },
            "type": "scatter"
           }
          ],
          "scatter3d": [
           {
            "line": {
             "colorbar": {
              "outlinewidth": 0,
              "ticks": ""
             }
            },
            "marker": {
             "colorbar": {
              "outlinewidth": 0,
              "ticks": ""
             }
            },
            "type": "scatter3d"
           }
          ],
          "scattercarpet": [
           {
            "marker": {
             "colorbar": {
              "outlinewidth": 0,
              "ticks": ""
             }
            },
            "type": "scattercarpet"
           }
          ],
          "scattergeo": [
           {
            "marker": {
             "colorbar": {
              "outlinewidth": 0,
              "ticks": ""
             }
            },
            "type": "scattergeo"
           }
          ],
          "scattergl": [
           {
            "marker": {
             "colorbar": {
              "outlinewidth": 0,
              "ticks": ""
             }
            },
            "type": "scattergl"
           }
          ],
          "scattermapbox": [
           {
            "marker": {
             "colorbar": {
              "outlinewidth": 0,
              "ticks": ""
             }
            },
            "type": "scattermapbox"
           }
          ],
          "scatterpolar": [
           {
            "marker": {
             "colorbar": {
              "outlinewidth": 0,
              "ticks": ""
             }
            },
            "type": "scatterpolar"
           }
          ],
          "scatterpolargl": [
           {
            "marker": {
             "colorbar": {
              "outlinewidth": 0,
              "ticks": ""
             }
            },
            "type": "scatterpolargl"
           }
          ],
          "scatterternary": [
           {
            "marker": {
             "colorbar": {
              "outlinewidth": 0,
              "ticks": ""
             }
            },
            "type": "scatterternary"
           }
          ],
          "surface": [
           {
            "colorbar": {
             "outlinewidth": 0,
             "ticks": ""
            },
            "colorscale": [
             [
              0,
              "#0d0887"
             ],
             [
              0.1111111111111111,
              "#46039f"
             ],
             [
              0.2222222222222222,
              "#7201a8"
             ],
             [
              0.3333333333333333,
              "#9c179e"
             ],
             [
              0.4444444444444444,
              "#bd3786"
             ],
             [
              0.5555555555555556,
              "#d8576b"
             ],
             [
              0.6666666666666666,
              "#ed7953"
             ],
             [
              0.7777777777777778,
              "#fb9f3a"
             ],
             [
              0.8888888888888888,
              "#fdca26"
             ],
             [
              1,
              "#f0f921"
             ]
            ],
            "type": "surface"
           }
          ],
          "table": [
           {
            "cells": {
             "fill": {
              "color": "#EBF0F8"
             },
             "line": {
              "color": "white"
             }
            },
            "header": {
             "fill": {
              "color": "#C8D4E3"
             },
             "line": {
              "color": "white"
             }
            },
            "type": "table"
           }
          ]
         },
         "layout": {
          "annotationdefaults": {
           "arrowcolor": "#2a3f5f",
           "arrowhead": 0,
           "arrowwidth": 1
          },
          "autotypenumbers": "strict",
          "coloraxis": {
           "colorbar": {
            "outlinewidth": 0,
            "ticks": ""
           }
          },
          "colorscale": {
           "diverging": [
            [
             0,
             "#8e0152"
            ],
            [
             0.1,
             "#c51b7d"
            ],
            [
             0.2,
             "#de77ae"
            ],
            [
             0.3,
             "#f1b6da"
            ],
            [
             0.4,
             "#fde0ef"
            ],
            [
             0.5,
             "#f7f7f7"
            ],
            [
             0.6,
             "#e6f5d0"
            ],
            [
             0.7,
             "#b8e186"
            ],
            [
             0.8,
             "#7fbc41"
            ],
            [
             0.9,
             "#4d9221"
            ],
            [
             1,
             "#276419"
            ]
           ],
           "sequential": [
            [
             0,
             "#0d0887"
            ],
            [
             0.1111111111111111,
             "#46039f"
            ],
            [
             0.2222222222222222,
             "#7201a8"
            ],
            [
             0.3333333333333333,
             "#9c179e"
            ],
            [
             0.4444444444444444,
             "#bd3786"
            ],
            [
             0.5555555555555556,
             "#d8576b"
            ],
            [
             0.6666666666666666,
             "#ed7953"
            ],
            [
             0.7777777777777778,
             "#fb9f3a"
            ],
            [
             0.8888888888888888,
             "#fdca26"
            ],
            [
             1,
             "#f0f921"
            ]
           ],
           "sequentialminus": [
            [
             0,
             "#0d0887"
            ],
            [
             0.1111111111111111,
             "#46039f"
            ],
            [
             0.2222222222222222,
             "#7201a8"
            ],
            [
             0.3333333333333333,
             "#9c179e"
            ],
            [
             0.4444444444444444,
             "#bd3786"
            ],
            [
             0.5555555555555556,
             "#d8576b"
            ],
            [
             0.6666666666666666,
             "#ed7953"
            ],
            [
             0.7777777777777778,
             "#fb9f3a"
            ],
            [
             0.8888888888888888,
             "#fdca26"
            ],
            [
             1,
             "#f0f921"
            ]
           ]
          },
          "colorway": [
           "#636efa",
           "#EF553B",
           "#00cc96",
           "#ab63fa",
           "#FFA15A",
           "#19d3f3",
           "#FF6692",
           "#B6E880",
           "#FF97FF",
           "#FECB52"
          ],
          "font": {
           "color": "#2a3f5f"
          },
          "geo": {
           "bgcolor": "white",
           "lakecolor": "white",
           "landcolor": "#E5ECF6",
           "showlakes": true,
           "showland": true,
           "subunitcolor": "white"
          },
          "hoverlabel": {
           "align": "left"
          },
          "hovermode": "closest",
          "mapbox": {
           "style": "light"
          },
          "paper_bgcolor": "white",
          "plot_bgcolor": "#E5ECF6",
          "polar": {
           "angularaxis": {
            "gridcolor": "white",
            "linecolor": "white",
            "ticks": ""
           },
           "bgcolor": "#E5ECF6",
           "radialaxis": {
            "gridcolor": "white",
            "linecolor": "white",
            "ticks": ""
           }
          },
          "scene": {
           "xaxis": {
            "backgroundcolor": "#E5ECF6",
            "gridcolor": "white",
            "gridwidth": 2,
            "linecolor": "white",
            "showbackground": true,
            "ticks": "",
            "zerolinecolor": "white"
           },
           "yaxis": {
            "backgroundcolor": "#E5ECF6",
            "gridcolor": "white",
            "gridwidth": 2,
            "linecolor": "white",
            "showbackground": true,
            "ticks": "",
            "zerolinecolor": "white"
           },
           "zaxis": {
            "backgroundcolor": "#E5ECF6",
            "gridcolor": "white",
            "gridwidth": 2,
            "linecolor": "white",
            "showbackground": true,
            "ticks": "",
            "zerolinecolor": "white"
           }
          },
          "shapedefaults": {
           "line": {
            "color": "#2a3f5f"
           }
          },
          "ternary": {
           "aaxis": {
            "gridcolor": "white",
            "linecolor": "white",
            "ticks": ""
           },
           "baxis": {
            "gridcolor": "white",
            "linecolor": "white",
            "ticks": ""
           },
           "bgcolor": "#E5ECF6",
           "caxis": {
            "gridcolor": "white",
            "linecolor": "white",
            "ticks": ""
           }
          },
          "title": {
           "x": 0.05
          },
          "xaxis": {
           "automargin": true,
           "gridcolor": "white",
           "linecolor": "white",
           "ticks": "",
           "title": {
            "standoff": 15
           },
           "zerolinecolor": "white",
           "zerolinewidth": 2
          },
          "yaxis": {
           "automargin": true,
           "gridcolor": "white",
           "linecolor": "white",
           "ticks": "",
           "title": {
            "standoff": 15
           },
           "zerolinecolor": "white",
           "zerolinewidth": 2
          }
         }
        },
        "title": {
         "text": "ELO Score for CAGE4"
        },
        "xaxis": {
         "range": [
          -1,
          50
         ],
         "title": {
          "text": "Trial Number"
         },
         "type": "linear"
        },
        "yaxis": {
         "autorange": true,
         "range": [
          781.2752808988764,
          1217.7247191011236
         ],
         "title": {
          "text": "ELO Score"
         },
         "type": "linear"
        }
       }
      },
      "image/png": "[encoded data removed]"
     },
     "metadata": {},
     "output_type": "display_data"
    }
   ],
   "source": [
    "# change the config for exporting hte png iamge fro mthe plot at a higher resolution\n",
    "config = {\n",
    "    'toImageButtonOptions': {\n",
    "        'format': 'png',\n",
    "        'filename': 'custom_image',\n",
    "        'height': 600,\n",
    "        'width': 800,\n",
    "        'scale': 10\n",
    "    }\n",
    "}\n",
    "\n",
    "# Getting the highest and lowest Elo rating for cutoffs of the Y-axis\n",
    "max_elo_rating = all_sheet_elo_score_df[\"updated_elo_rating\"].max()\n",
    "min_elo_rating = all_sheet_elo_score_df[\"updated_elo_rating\"].min()\n",
    "max_match_num = all_sheet_elo_score_df[\"total_match_number\"].max()\n",
    "min_match_num = all_sheet_elo_score_df[\"total_match_number\"].min()\n",
    "\n",
    "for key, value in elo_df_dict.items():\n",
    "    # Drawing vertical lines that represent when each session begins\n",
    "    # Based on when a row has a different session than the previous row\n",
    "    session_arr = value[value['session_number_difference'] == 1.0]['total_match_number'].unique()\n",
    "    vertical_lines_lst = []\n",
    "    for session_int in session_arr:\n",
    "        shape = {'type': 'line', \n",
    "                 'x0': session_int, \n",
    "                 'y0': min_elo_rating-50, \n",
    "                 'x1': session_int, \n",
    "                 'y1': max_elo_rating+50,\n",
    "                 'line': {\n",
    "                    'color': 'black',\n",
    "                    'width': 2,\n",
    "                    'dash': 'dash'\n",
    "                }}\n",
    "        vertical_lines_lst.append(shape)\n",
    "        \n",
    "    # Drawing a line for each subject\n",
    "    subject_id_arr = value['subject_id'].unique()\n",
    "    subject_id_arr.sort()\n",
    "    subject_lines_lst = []\n",
    "    for subject in subject_id_arr:\n",
    "        subject_df = value[value['subject_id'] == subject]\n",
    "        trace = go.Scatter(x=subject_df[\"total_match_number\"], \n",
    "                           y=subject_df[\"updated_elo_rating\"], \n",
    "                           mode='lines+markers', \n",
    "                           name=subject)\n",
    "        subject_lines_lst.append(trace)\n",
    "\n",
    "    # Create a layout with the shapes\n",
    "    layout = go.Layout(shapes=vertical_lines_lst)\n",
    "\n",
    "    # Create a Figure object with the traces and layout\n",
    "    fig = go.Figure(data=subject_lines_lst, layout=layout)\n",
    "    fig.update_xaxes(range=[min_match_num-2, max_match_num+2])\n",
    "    fig.update_layout(legend_title_text='Subject ID',\n",
    "                     title_text=f'ELO Score for {key}',\n",
    "                     xaxis_title='Trial Number',\n",
    "                     yaxis_title='ELO Score',\n",
    "                     # width=1000,\n",
    "                     height=600\n",
    "                     )\n",
    "    \n",
    "    \n",
    "    \n",
    "    # Show the figure\n",
    "    fig.show(config=config)\n",
    "    \n",
    "    # save figures to disk\n",
    "    # if kaleido is not installed only html is exported (a png can be saved from the html file)\n",
    "    if save_plots:\n",
    "        try:\n",
    "            fig.write_image(output_dir+\"/\"+f'ELO Score for {key}'+'.png', scale=5)\n",
    "            fig.write_image(output_dir+\"/\"+f'ELO Score for {key}'+'.svg')\n",
    "            fig.write_html(output_dir+\"/\"+f'ELO Score for {key}'+'.html', config=config)\n",
    "        except:\n",
    "            fig.write_html(output_dir+\"/\"+f'ELO Score for {key}'+'.html', config=config)"
   ]
  }
 ],
 "metadata": {
  "kernelspec": {
   "display_name": "Python 3 (ipykernel)",
   "language": "python",
   "name": "python3"
  },
  "language_info": {
   "codemirror_mode": {
    "name": "ipython",
    "version": 3
   },
   "file_extension": ".py",
   "mimetype": "text/x-python",
   "name": "python",
   "nbconvert_exporter": "python",
   "pygments_lexer": "ipython3",
   "version": "3.10.9"
  },
  "vscode": {
   "interpreter": {
    "hash": "3f8ee54d6a5e4a8880ade41546e056b482b8e637dc064f40b470e6968242c2bb"
   }
  }
 },
 "nbformat": 4,
 "nbformat_minor": 5
}
